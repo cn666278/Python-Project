{
 "cells": [
  {
   "cell_type": "code",
   "execution_count": 1,
   "metadata": {},
   "outputs": [
    {
     "name": "stdout",
     "output_type": "stream",
     "text": [
      "3\n",
      "[[1, 0, 0, 0], [1, 1, 0, 0], [1, 2, 1, 0], [1, 3, 3, 1]]\n"
     ]
    }
   ],
   "source": [
    "# Binomial Coefficient By Dynamic Programming\n",
    "\n",
    "# 仅用于打印数值表，所以 n <= k\n",
    "def bin_coef_dp(n, k):\n",
    "    B = [[0 for i in range(n+1)] for j in range(k+1)]\n",
    "\n",
    "    for i in range(0, n+1):\n",
    "        for j in range(0, min(i, k)+1):\n",
    "            # k = 0 or k = n\n",
    "            if j == 0 and j == i:\n",
    "                B[i][j] = 1\n",
    "            else:\n",
    "                B[i][j] = B[i-1][j-1] + B[i-1][j]  # 0 < j < i      (0 < k < n)\n",
    "\n",
    "    return B\n",
    "\n",
    "n = 3\n",
    "k = 3\n",
    "B = bin_coef_dp(n, k)   # 输出数值表到B\n",
    "print(B[3][2])          # 求值\n",
    "print(B)"
   ]
  },
  {
   "cell_type": "code",
   "execution_count": null,
   "metadata": {},
   "outputs": [],
   "source": []
  }
 ],
 "metadata": {
  "kernelspec": {
   "display_name": "Python 3",
   "language": "python",
   "name": "python3"
  },
  "language_info": {
   "codemirror_mode": {
    "name": "ipython",
    "version": 3
   },
   "file_extension": ".py",
   "mimetype": "text/x-python",
   "name": "python",
   "nbconvert_exporter": "python",
   "pygments_lexer": "ipython3",
   "version": "3.7.4"
  }
 },
 "nbformat": 4,
 "nbformat_minor": 2
}
