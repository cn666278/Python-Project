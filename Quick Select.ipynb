{
 "cells": [
  {
   "cell_type": "code",
   "execution_count": null,
   "metadata": {},
   "outputs": [],
   "source": [
    "# Quick Select\n",
    "import numpy as np\n",
    "\n",
    "def selection(low, high, k):\n",
    "    pivotPtr = S[low]\n",
    "    if low == high:\n",
    "        return S[low]\n",
    "    else:\n",
    "        partition(low, high, pivotPtr)\n",
    "        if k == pivotPtr:\n",
    "            return S[pivotPtr]\n",
    "        elif k < pivotPtr:\n",
    "            return selection(low, pivotPtr - 1, k)\n",
    "        else:\n",
    "            return selection(pivotPtr + 1, high, k)\n",
    "    return -1\n",
    "\n",
    "def partition(low, high, pivotPtr):\n",
    "    pivot = S[low]\n",
    "    j = low\n",
    "\n",
    "    for i in range(low + 1, high + 1):\n",
    "        if S[i] < pivot:\n",
    "            j += 1\n",
    "            S[i], S[j] = S[j], S[i]\n",
    "\n",
    "    pivotPtr = j\n",
    "    S[low], S[pivotPtr] = S[pivotPtr], S[low]\n",
    "\n",
    "\n",
    "S = [1, 3, 6, 9, 2, 8, 7, 22, 4]\n",
    "np.random.shuffle(S) # randomize the array\n",
    "# print(S)\n",
    "k = int(input(\"Enter the k for kth-smallest key(k is indexed from 0): \"))\n",
    "print(selection(0, len(S) - 1, k))"
   ]
  }
 ],
 "metadata": {
  "kernelspec": {
   "display_name": "Python 3",
   "language": "python",
   "name": "python3"
  },
  "language_info": {
   "codemirror_mode": {
    "name": "ipython",
    "version": 3
   },
   "file_extension": ".py",
   "mimetype": "text/x-python",
   "name": "python",
   "nbconvert_exporter": "python",
   "pygments_lexer": "ipython3",
   "version": "3.7.4"
  }
 },
 "nbformat": 4,
 "nbformat_minor": 2
}
