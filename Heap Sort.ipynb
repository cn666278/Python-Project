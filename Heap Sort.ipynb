{
 "cells": [
  {
   "cell_type": "code",
   "execution_count": 16,
   "metadata": {},
   "outputs": [
    {
     "name": "stdout",
     "output_type": "stream",
     "text": [
      "[12, 11, 1, 9, 13, 2, 10, 5, 6, 7, 4, 3]\n",
      "After heap sort:\n",
      "[1, 2, 3, 4, 5, 6, 7, 9, 10, 11, 12, 13]\n"
     ]
    }
   ],
   "source": [
    "def makeheap(arr, n, i): \n",
    "    largest = i  \n",
    "    l = 2 * i     # left = 2*i \n",
    "    r = 2 * i + 1     # right = 2*i + 1\n",
    "  \n",
    "    if l < n and arr[i] < arr[l]: \n",
    "        largest = l \n",
    "  \n",
    "    if r < n and arr[largest] < arr[r]: \n",
    "        largest = r \n",
    "  \n",
    "    # if the largest value changes(not parent node anymore)\n",
    "    if largest != i: \n",
    "        arr[i],arr[largest] = arr[largest],arr[i]    # update largest value \n",
    "        makeheap(arr, n, largest)                    # sink down\n",
    "    \n",
    "def heapSort(arr): \n",
    "    n = len(arr) \n",
    "  \n",
    "    # Build a maxheap. \n",
    "    for i in range(n, -1, -1):            # means [n,-1) = [n,n-1...0]\n",
    "        makeheap(arr, n, i) \n",
    "  \n",
    "    # exchange values one-by-one\n",
    "    for i in range(n-1, -1, -1):           # start from n-1, means delete(ignore) the bottom node\n",
    "        arr[i], arr[0] = arr[0], arr[i]   # exchange arr[0] with root(arr[n-1])\n",
    "        makeheap(arr, i, 0)               # restore the heap property\n",
    "        \n",
    "arr = [12, 11, 1, 9, 13, 2, 10, 5, 6, 7, 4, 3] \n",
    "# arr = ['a','s','f','g','z','d','e','n','o','b']\n",
    "print(arr)\n",
    "heapSort(arr) \n",
    "n = len(arr) \n",
    "print (\"After heap sort:\") \n",
    "print(arr)"
   ]
  },
  {
   "cell_type": "code",
   "execution_count": 2,
   "metadata": {},
   "outputs": [
    {
     "name": "stdout",
     "output_type": "stream",
     "text": [
      "[12, 11, 1, 9, 13, 2, 8, 10, 5, 6, 7, 4, 3]\n",
      "After heap sort:\n",
      "[1, 2, 3, 4, 5, 6, 7, 8, 9, 10, 11, 12, 13]\n"
     ]
    }
   ],
   "source": [
    "# Better one(edited by C.N)\n",
    "def makeHeap(arr, n):\n",
    "    for i in range(n//2 ,-1,-1):       # last parent should be n // 2 --(parent*2+1 is left chid)\n",
    "        siftDown(arr, i, n)\n",
    "\n",
    "def siftDown(arr, i, n): \n",
    "    parent = i  \n",
    "    largerchild = i \n",
    "    l = 2 * parent + 1   # using arr[0] as root\n",
    "    r = 2 * parent + 2   \n",
    "    \n",
    "    if l < n and arr[l] > arr[largerchild]:\n",
    "        largerchild = l\n",
    "        \n",
    "    if r < n and arr[r] > arr[largerchild]: \n",
    "        largerchild = r\n",
    "\n",
    "    # if the largest value changes(not parent node anymore)\n",
    "    if largerchild != i:\n",
    "        arr[i], arr[largerchild] = arr[largerchild], arr[i]    # update largest value \n",
    "        siftDown(arr, largerchild, n)                          # sink down\n",
    "\n",
    "def heapSort(arr): \n",
    "    n = len(arr)\n",
    "    makeHeap(arr,n)\n",
    "    \n",
    "    # exchange values one-by-one\n",
    "    for i in range(n-1, 0, -1):           # start from n-1, means delete(ignore) the bottom node\n",
    "        arr[i], arr[0] = arr[0], arr[i]    # exchange arr[0] with root(arr[n-1])\n",
    "        siftDown(arr, 0, i)                # i = n-1,n-2 ...1, after excahnge arr[0] with root\n",
    "                                           # sift down arr[i] to restore the heap property\n",
    "\n",
    "        \n",
    "arr = [12, 11, 1, 9, 13, 2, 8, 10, 5, 6, 7, 4, 3] \n",
    "# arr = ['a','s','f','g','z','d','c','e','n','o','b']\n",
    "print(arr)\n",
    "heapSort(arr) \n",
    "print (\"After heap sort:\") \n",
    "print(arr)"
   ]
  },
  {
   "cell_type": "code",
   "execution_count": 22,
   "metadata": {},
   "outputs": [
    {
     "name": "stdout",
     "output_type": "stream",
     "text": [
      "[12, 11, 1, 9, 2, 10, 5, 6, 7, 4, 3]\n",
      "After heap sort:\n",
      "[1, 2, 3, 4, 5, 6, 7, 9, 10, 11, 12]\n"
     ]
    }
   ],
   "source": [
    "# draft only\n",
    "\n",
    "def makeHeap(arr,n):\n",
    "    for i in range(n//2 , -1, -1):     #11//2 = 5  \n",
    "        siftDown(arr, i, n)            # (5,11)\n",
    "\n",
    "def siftDown(arr, i, n): #0,11-1=10   # 5,11\n",
    "    parent = i  #0 #5\n",
    "    largerchild = i #0 #5\n",
    "    l = 2 * parent + 1   #1 #11\n",
    "    r = 2 * parent + 2   #2 #12\n",
    "    \n",
    "    if l < n and arr[l] > arr[largerchild]: #arr[1]>arr[0]  #arr[1]>arr[0]\n",
    "        largerchild = l\n",
    "        \n",
    "    if r < n and arr[r] > arr[largerchild]: #arr[r]>arr[0]  #arr[r]>arr[0]\n",
    "        largerchild = r\n",
    "\n",
    "    # if the largest value changes(not parent node anymore)\n",
    "    if largerchild != i: # 0 != 0\n",
    "        arr[i], arr[largerchild] = arr[largerchild], arr[i]    # update largest value arr[11]=arr[0]\n",
    "        siftDown(arr, largerchild, n)                          # sink down\n",
    "\n",
    "def heapSort(arr): \n",
    "    n = len(arr)\n",
    "    makeHeap(arr,n)\n",
    "    \n",
    "    # exchange values one-by-one\n",
    "    for i in range(n-1, -1, -1):           # start from n-1, means delete(ignore) the bottom node\n",
    "        arr[i], arr[0] = arr[0], arr[i]    # exchange arr[0] with root(arr[n-1])\n",
    "        siftDown(arr, 0, i)                # i = n-1,n-2 ...1, \n",
    "                                           # after excahnge arr[0] with root, sift down arr[i] to restore the heap property\n",
    "\n",
    "        \n",
    "arr = [12, 11, 1, 9, 2, 10, 5, 6, 7, 4, 3] \n",
    "# arr = ['a','s','f','g','z','d','e','n','o','b']\n",
    "print(arr)\n",
    "heapSort(arr) \n",
    "print (\"After heap sort:\") \n",
    "print(arr)"
   ]
  },
  {
   "cell_type": "code",
   "execution_count": null,
   "metadata": {},
   "outputs": [],
   "source": []
  }
 ],
 "metadata": {
  "kernelspec": {
   "display_name": "Python 3",
   "language": "python",
   "name": "python3"
  },
  "language_info": {
   "codemirror_mode": {
    "name": "ipython",
    "version": 3
   },
   "file_extension": ".py",
   "mimetype": "text/x-python",
   "name": "python",
   "nbconvert_exporter": "python",
   "pygments_lexer": "ipython3",
   "version": "3.7.4"
  }
 },
 "nbformat": 4,
 "nbformat_minor": 2
}
