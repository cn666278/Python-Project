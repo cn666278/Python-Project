{
 "cells": [
  {
   "cell_type": "code",
   "execution_count": null,
   "metadata": {},
   "outputs": [],
   "source": [
    "def make_phone(brand, *parts):\n",
    "    print(\"Making a \" + brand + \" phones need to have these following parts: \" )\n",
    "    for part in parts:\n",
    "        print(\"- \" + part)\n",
    "    \n",
    "make_phone('Huawei', 'leica camera','jingdongfang screen','double audio','blueteeth 6.0')\n",
    "make_phone(\"Xiaomi\", 'samsung screen','double audio','blueteeth 5.0')"
   ]
  }
 ],
 "metadata": {
  "kernelspec": {
   "display_name": "Python 3",
   "language": "python",
   "name": "python3"
  },
  "language_info": {
   "codemirror_mode": {
    "name": "ipython",
    "version": 3
   },
   "file_extension": ".py",
   "mimetype": "text/x-python",
   "name": "python",
   "nbconvert_exporter": "python",
   "pygments_lexer": "ipython3",
   "version": "3.7.4"
  }
 },
 "nbformat": 4,
 "nbformat_minor": 2
}
