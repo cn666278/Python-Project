{
 "cells": [
  {
   "cell_type": "code",
   "execution_count": 1,
   "metadata": {},
   "outputs": [
    {
     "name": "stdout",
     "output_type": "stream",
     "text": [
      "['yes', 'no', 'yes', 'yes', 'no']\n"
     ]
    }
   ],
   "source": [
    "# partition problem\n",
    "# when we choose w1,w3,w4, it means that the rest are w2,w5, hence the answer only has one:[w1,w3,w4]\n",
    "\n",
    "def partition(i, weight, remain):\n",
    "    global w\n",
    "    global n\n",
    "    global W\n",
    "    global include\n",
    "\n",
    "    if promising(i, weight, remain):\n",
    "        if weight == W:\n",
    "            print(include)\n",
    "        else:\n",
    "            include[i + 1] = \"yes\"\n",
    "            partition(i + 1, weight + w[i + 1], remain - w[i + 1])\n",
    "            include[i + 1] = \"no\"\n",
    "            partition(i + 1, weight, remain - w[i + 1])\n",
    "\n",
    "def promising(i, weight, remain):\n",
    "    return weight + remain >= W and (weight == W or weight + w[i + 1] <= W)\n",
    "\n",
    "\n",
    "w = [1, 6, 4, 3, 2]\n",
    "n = len(w)\n",
    "include = ['no'] * n\n",
    "remain = sum(w)\n",
    "W = remain / 2\n",
    "partition(-1, 0, remain)\n",
    "\n"
   ]
  },
  {
   "cell_type": "code",
   "execution_count": null,
   "metadata": {},
   "outputs": [],
   "source": []
  }
 ],
 "metadata": {
  "kernelspec": {
   "display_name": "Python 3",
   "language": "python",
   "name": "python3"
  },
  "language_info": {
   "codemirror_mode": {
    "name": "ipython",
    "version": 3
   },
   "file_extension": ".py",
   "mimetype": "text/x-python",
   "name": "python",
   "nbconvert_exporter": "python",
   "pygments_lexer": "ipython3",
   "version": "3.7.4"
  }
 },
 "nbformat": 4,
 "nbformat_minor": 2
}
