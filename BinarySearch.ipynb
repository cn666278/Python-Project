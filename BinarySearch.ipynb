{
 "cells": [
  {
   "cell_type": "code",
   "execution_count": 2,
   "metadata": {},
   "outputs": [
    {
     "name": "stdout",
     "output_type": "stream",
     "text": [
      "Enter the number of elements in array:3\n",
      "Array element 0： 1\n",
      "Array element 1： 2\n",
      "Array element 2： 3\n",
      "Enter the key value to search:3\n",
      "Element found at location:  2\n"
     ]
    }
   ],
   "source": [
    "def binary_search(S, low, high, key):\n",
    "    if high >= low:\n",
    "        mid = (low + high) // 2  # \"//\" means floor function\n",
    "        \n",
    "        if S[mid] == key:\n",
    "            return mid\n",
    "        elif S[mid] > key:\n",
    "            return binary_search(S, low, mid - 1, key)\n",
    "        else:\n",
    "            return binary_search(S, mid + 1, high, key)\n",
    "    else:\n",
    "        return -1\n",
    "    \n",
    "    \n",
    "S = []\n",
    "n = int(input('Enter the number of elements in array:'))\n",
    "\n",
    "for i in range(0,n):\n",
    "    num_of_element = int(input('Array element %d： ' %i))\n",
    "    S.append(num_of_element)\n",
    "    \n",
    "key = int(input('Enter the key value to search:'))\n",
    "\n",
    "output = binary_search(S, 0, len(S) - 1, key)\n",
    "\n",
    "if output != -1:\n",
    "    print('Element found at location: ', str(output))\n",
    "else:\n",
    "    print('Element is not found')"
   ]
  },
  {
   "cell_type": "code",
   "execution_count": null,
   "metadata": {},
   "outputs": [],
   "source": []
  },
  {
   "cell_type": "code",
   "execution_count": null,
   "metadata": {},
   "outputs": [],
   "source": []
  }
 ],
 "metadata": {
  "kernelspec": {
   "display_name": "Python 3",
   "language": "python",
   "name": "python3"
  },
  "language_info": {
   "codemirror_mode": {
    "name": "ipython",
    "version": 3
   },
   "file_extension": ".py",
   "mimetype": "text/x-python",
   "name": "python",
   "nbconvert_exporter": "python",
   "pygments_lexer": "ipython3",
   "version": "3.7.4"
  }
 },
 "nbformat": 4,
 "nbformat_minor": 2
}
