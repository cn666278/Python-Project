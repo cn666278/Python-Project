{
 "cells": [
  {
   "cell_type": "code",
   "execution_count": 19,
   "metadata": {},
   "outputs": [
    {
     "name": "stdout",
     "output_type": "stream",
     "text": [
      "Enter the first number: 3\n",
      "Enter the second number: 9\n",
      "The GCD of 3 and 9 is 3\n",
      "829 ns ± 16.3 ns per loop (mean ± std. dev. of 7 runs, 1000000 loops each)\n"
     ]
    }
   ],
   "source": [
    "# Consecutive Integer Checking Algorithm\n",
    "    \n",
    "def GCD(m, n):\n",
    "\n",
    "    t = min(m,n)\n",
    "    for i in range (1,t+1):\n",
    "        if ((m % i == 0) and (n % i == 0)):\n",
    "            gcd = i\n",
    "    return gcd\n",
    " \n",
    "num1 = int(input(\"Enter the first number: \"))\n",
    "num2 = int(input(\"Enter the second number: \"))\n",
    " \n",
    "print( \"The GCD of\", num1, \"and\", num2, \"is\", GCD(num1, num2))\n",
    "%timeit time_list = GCD(num1,num2)"
   ]
  },
  {
   "cell_type": "code",
   "execution_count": 1,
   "metadata": {},
   "outputs": [
    {
     "ename": "TypeError",
     "evalue": "'NoneType' object is not subscriptable",
     "output_type": "error",
     "traceback": [
      "\u001b[1;31m---------------------------------------------------------------------------\u001b[0m",
      "\u001b[1;31mTypeError\u001b[0m                                 Traceback (most recent call last)",
      "\u001b[1;32m<ipython-input-1-0637c4b7684b>\u001b[0m in \u001b[0;36m<module>\u001b[1;34m\u001b[0m\n\u001b[0;32m     42\u001b[0m     \u001b[1;32mreturn\u001b[0m \u001b[0mgcd\u001b[0m\u001b[1;33m\u001b[0m\u001b[1;33m\u001b[0m\u001b[0m\n\u001b[0;32m     43\u001b[0m \u001b[1;33m\u001b[0m\u001b[0m\n\u001b[1;32m---> 44\u001b[1;33m \u001b[0mprint\u001b[0m\u001b[1;33m(\u001b[0m\u001b[0mGCD\u001b[0m\u001b[1;33m(\u001b[0m\u001b[1;36m12\u001b[0m\u001b[1;33m,\u001b[0m\u001b[1;36m18\u001b[0m\u001b[1;33m)\u001b[0m\u001b[1;33m)\u001b[0m\u001b[1;33m\u001b[0m\u001b[1;33m\u001b[0m\u001b[0m\n\u001b[0m\u001b[0;32m     45\u001b[0m \u001b[0mprint\u001b[0m\u001b[1;33m(\u001b[0m\u001b[0mGCD\u001b[0m\u001b[1;33m(\u001b[0m\u001b[1;36m7\u001b[0m\u001b[1;33m,\u001b[0m\u001b[1;36m2\u001b[0m\u001b[1;33m)\u001b[0m\u001b[1;33m)\u001b[0m\u001b[1;33m\u001b[0m\u001b[1;33m\u001b[0m\u001b[0m\n\u001b[0;32m     46\u001b[0m \u001b[0mprint\u001b[0m\u001b[1;33m(\u001b[0m\u001b[0mGCD\u001b[0m\u001b[1;33m(\u001b[0m\u001b[1;36m7\u001b[0m\u001b[1;33m,\u001b[0m\u001b[1;36m13\u001b[0m\u001b[1;33m)\u001b[0m\u001b[1;33m)\u001b[0m\u001b[1;33m\u001b[0m\u001b[1;33m\u001b[0m\u001b[0m\n",
      "\u001b[1;32m<ipython-input-1-0637c4b7684b>\u001b[0m in \u001b[0;36mGCD\u001b[1;34m(num1, num2)\u001b[0m\n\u001b[0;32m     31\u001b[0m \u001b[1;33m\u001b[0m\u001b[0m\n\u001b[0;32m     32\u001b[0m \u001b[1;32mdef\u001b[0m \u001b[0mGCD\u001b[0m\u001b[1;33m(\u001b[0m\u001b[0mnum1\u001b[0m\u001b[1;33m,\u001b[0m\u001b[0mnum2\u001b[0m\u001b[1;33m)\u001b[0m\u001b[1;33m:\u001b[0m\u001b[1;33m\u001b[0m\u001b[1;33m\u001b[0m\u001b[0m\n\u001b[1;32m---> 33\u001b[1;33m     \u001b[0mdict1\u001b[0m \u001b[1;33m=\u001b[0m \u001b[0mPrimeDivisor\u001b[0m\u001b[1;33m(\u001b[0m\u001b[0mnum1\u001b[0m\u001b[1;33m)\u001b[0m\u001b[1;33m\u001b[0m\u001b[1;33m\u001b[0m\u001b[0m\n\u001b[0m\u001b[0;32m     34\u001b[0m     \u001b[0mdict2\u001b[0m \u001b[1;33m=\u001b[0m \u001b[0mPrimeDivisor\u001b[0m\u001b[1;33m(\u001b[0m\u001b[0mnum2\u001b[0m\u001b[1;33m)\u001b[0m\u001b[1;33m\u001b[0m\u001b[1;33m\u001b[0m\u001b[0m\n\u001b[0;32m     35\u001b[0m     \u001b[0mgcd\u001b[0m \u001b[1;33m=\u001b[0m \u001b[1;36m1\u001b[0m\u001b[1;33m\u001b[0m\u001b[1;33m\u001b[0m\u001b[0m\n",
      "\u001b[1;32m<ipython-input-1-0637c4b7684b>\u001b[0m in \u001b[0;36mPrimeDivisor\u001b[1;34m(num)\u001b[0m\n\u001b[0;32m     24\u001b[0m     \u001b[1;32mwhile\u001b[0m \u001b[0mnum\u001b[0m \u001b[1;32mnot\u001b[0m \u001b[1;32min\u001b[0m \u001b[0mprime_range\u001b[0m\u001b[1;33m:\u001b[0m\u001b[1;33m\u001b[0m\u001b[1;33m\u001b[0m\u001b[0m\n\u001b[0;32m     25\u001b[0m         \u001b[0mfactor_list\u001b[0m \u001b[1;33m=\u001b[0m \u001b[0mPrimeFactorSolve\u001b[0m\u001b[1;33m(\u001b[0m\u001b[0mnum\u001b[0m\u001b[1;33m,\u001b[0m\u001b[0mprime_range\u001b[0m\u001b[1;33m)\u001b[0m\u001b[1;33m\u001b[0m\u001b[1;33m\u001b[0m\u001b[0m\n\u001b[1;32m---> 26\u001b[1;33m         \u001b[0mret_value\u001b[0m\u001b[1;33m.\u001b[0m\u001b[0mappend\u001b[0m\u001b[1;33m(\u001b[0m\u001b[0mfactor_list\u001b[0m\u001b[1;33m[\u001b[0m\u001b[1;36m0\u001b[0m\u001b[1;33m]\u001b[0m\u001b[1;33m)\u001b[0m\u001b[1;33m\u001b[0m\u001b[1;33m\u001b[0m\u001b[0m\n\u001b[0m\u001b[0;32m     27\u001b[0m         \u001b[0mnum\u001b[0m \u001b[1;33m=\u001b[0m \u001b[0mfactor_list\u001b[0m\u001b[1;33m[\u001b[0m\u001b[1;36m1\u001b[0m\u001b[1;33m]\u001b[0m\u001b[1;33m\u001b[0m\u001b[1;33m\u001b[0m\u001b[0m\n\u001b[0;32m     28\u001b[0m     \u001b[1;32melse\u001b[0m\u001b[1;33m:\u001b[0m\u001b[1;33m\u001b[0m\u001b[1;33m\u001b[0m\u001b[0m\n",
      "\u001b[1;31mTypeError\u001b[0m: 'NoneType' object is not subscriptable"
     ]
    }
   ],
   "source": [
    "# Middle School Algorithm\n",
    "from collections import Counter\n",
    "\n",
    "#Find the primenumber\n",
    "def PrimeNum(num):\n",
    "    r_value =[]\n",
    "    for i in range(2,num+1):\n",
    "        for j in range(2,i):\n",
    "            if i % j == 0:\n",
    "                break\n",
    "            else:\n",
    "                r_value.append(i)\n",
    "    return r_value\n",
    "\n",
    "def PrimeFactorSolve(num,prime_list):\n",
    "    for n in prime_list:\n",
    "        if num % n == 0:\n",
    "            return [n,num / n]\n",
    "        \n",
    "def PrimeDivisor(num):\n",
    "    num_temp =num\n",
    "    prime_range= PrimeNum(num)\n",
    "    ret_value =[]\n",
    "    while num not in prime_range:\n",
    "        factor_list = PrimeFactorSolve(num,prime_range)\n",
    "        ret_value.append(factor_list[0])\n",
    "        num = factor_list[1]\n",
    "    else:\n",
    "        ret_value.append(num)\n",
    "    return Counter(ret_value)\n",
    "\n",
    "def GCD(num1,num2):\n",
    "    dict1 = PrimeDivisor(num1)\n",
    "    dict2 = PrimeDivisor(num2)\n",
    "    gcd = 1\n",
    "    for key1 in dict1:        \n",
    "        if key1 in dict2:            \n",
    "            if dict1[key1] < dict2[key1]:                \n",
    "                gcd *= (key1 ** dict1[key1])\n",
    "            else:                \n",
    "                gcd *= (key1 ** dict2[key1])\n",
    "    return gcd\n",
    "\n",
    "print(GCD(12,18))\n",
    "print(GCD(7,2))\n",
    "print(GCD(7,13))\n",
    "print(GCD(24,56))\n"
   ]
  },
  {
   "cell_type": "code",
   "execution_count": 3,
   "metadata": {},
   "outputs": [
    {
     "name": "stdout",
     "output_type": "stream",
     "text": [
      "Enter the first number: 5\n",
      "Enter the second number: 48\n",
      "The GCD is 1\n",
      "702 ns ± 37.8 ns per loop (mean ± std. dev. of 7 runs, 1000000 loops each)\n"
     ]
    }
   ],
   "source": [
    "# Euclid's Algorithm\n",
    "def gcd_euclid(m,n):\n",
    "    \n",
    "    if n == 0:\n",
    "        return m\n",
    "    else:\n",
    "        return gcd_euclid(n, m % n)\n",
    "\n",
    "num1 = int(input(\"Enter the first number: \"))\n",
    "num2 = int(input(\"Enter the second number: \"))\n",
    "print(\"The GCD is\",gcd_euclid(num1,num2))\n",
    "%timeit time_list = gcd_euclid(num1,num2)"
   ]
  },
  {
   "cell_type": "code",
   "execution_count": 20,
   "metadata": {},
   "outputs": [
    {
     "name": "stdout",
     "output_type": "stream",
     "text": [
      "Enter the first number: 3\n",
      "Enter the second number: 9\n",
      "The gcd is 3\n",
      "15.8 µs ± 183 ns per loop (mean ± std. dev. of 7 runs, 100000 loops each)\n"
     ]
    }
   ],
   "source": [
    "# Middle School Algorithm\n",
    "# By Chen Yiyang\n",
    "import numpy as np\n",
    "def primeFactor(num):\n",
    "    k = 2\n",
    "    arr = []\n",
    "    while k <= num:\n",
    "        if num % k == 0:\n",
    "            arr.append(k)\n",
    "            num = num / k\n",
    "        else:\n",
    "            k += 1\n",
    "    return arr\n",
    "\n",
    "def gcd(m,n):\n",
    "    if m == 0 or n == 0:\n",
    "        print(\"Error\")\n",
    "        \n",
    "    arr1 = primeFactor(m)\n",
    "    arr2 = primeFactor(n)\n",
    "    \n",
    "    product1 = np.prod(arr1) #连乘操作\n",
    "    product2 = np.prod(arr2)\n",
    "    \n",
    "    if product1 % product2 == 0:\n",
    "        return min(product1,product2)\n",
    "    \n",
    "    arr = [x for x in arr1 if x in arr2]\n",
    "    product = np.prod(arr)\n",
    "    return product\n",
    "\n",
    "m = int(input(\"Enter the first number: \"))\n",
    "n = int(input(\"Enter the second number: \"))\n",
    "\n",
    "print(\"The gcd is\",gcd(m,n))\n",
    "%timeit time_list = gcd(m,n)"
   ]
  },
  {
   "cell_type": "code",
   "execution_count": null,
   "metadata": {},
   "outputs": [],
   "source": []
  }
 ],
 "metadata": {
  "kernelspec": {
   "display_name": "Python 3",
   "language": "python",
   "name": "python3"
  },
  "language_info": {
   "codemirror_mode": {
    "name": "ipython",
    "version": 3
   },
   "file_extension": ".py",
   "mimetype": "text/x-python",
   "name": "python",
   "nbconvert_exporter": "python",
   "pygments_lexer": "ipython3",
   "version": "3.7.4"
  }
 },
 "nbformat": 4,
 "nbformat_minor": 2
}
