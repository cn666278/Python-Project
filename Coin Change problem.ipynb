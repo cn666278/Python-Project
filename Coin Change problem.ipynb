{
 "cells": [
  {
   "cell_type": "code",
   "execution_count": 22,
   "metadata": {},
   "outputs": [
    {
     "name": "stdout",
     "output_type": "stream",
     "text": [
      "2\n"
     ]
    }
   ],
   "source": [
    "# Dynamic Programming Python implementation of Coin Change problem\n",
    "def count(S, m, n):\n",
    "    # We need n+1 rows as the table is constructed\n",
    "    # in bottom up manner using the base case 0 value\n",
    "    # case (n = 0)\n",
    "    table = [[0 for x in range(m)] for x in range(n + 1)]\n",
    "\n",
    "    # Fill the entries for 0 value case (n = 0)\n",
    "    for i in range(m):\n",
    "        table[0][i] = 1\n",
    "\n",
    "    # Fill rest of the table entries in bottom up manner\n",
    "    for i in range(1, n + 1):\n",
    "        for j in range(m):\n",
    "            # Count of solutions including S[j]\n",
    "            x = table[i - S[j]][j] if i - S[j] >= 0 else 0\n",
    "\n",
    "            # Count of solutions excluding S[j]\n",
    "            y = table[i][j - 1] if j >= 1 else 0\n",
    "\n",
    "            # total count\n",
    "            table[i][j] = x + y\n",
    "\n",
    "    return table[n][m - 1]\n",
    "\n",
    "\n",
    "# Driver program to test above function\n",
    "arr = [1, 5]\n",
    "m = len(arr)\n",
    "n = 5\n",
    "print(count(arr, m, n))"
   ]
  },
  {
   "cell_type": "code",
   "execution_count": null,
   "metadata": {},
   "outputs": [],
   "source": []
  }
 ],
 "metadata": {
  "kernelspec": {
   "display_name": "Python 3",
   "language": "python",
   "name": "python3"
  },
  "language_info": {
   "codemirror_mode": {
    "name": "ipython",
    "version": 3
   },
   "file_extension": ".py",
   "mimetype": "text/x-python",
   "name": "python",
   "nbconvert_exporter": "python",
   "pygments_lexer": "ipython3",
   "version": "3.7.4"
  }
 },
 "nbformat": 4,
 "nbformat_minor": 2
}
