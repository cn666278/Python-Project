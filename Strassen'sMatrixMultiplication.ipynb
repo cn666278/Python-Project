{
 "cells": [
  {
   "cell_type": "code",
   "execution_count": 1,
   "metadata": {},
   "outputs": [
    {
     "name": "stdout",
     "output_type": "stream",
     "text": [
      "[[6, 6, 6, 6], [6, 6, 6, 6], [12, 12, 12, 12], [12, 12, 12, 12]]\n"
     ]
    }
   ],
   "source": [
    "def matrix_strassen(a,b):\n",
    "    n=len(a)\n",
    "    c = [[0 for col in range(n)] for row in range(n)]\n",
    "    if n==1:\n",
    "        c[0][0]=a[0][0]*b[0][0]\n",
    "    else:\n",
    "        (a11,a12,a21,a22)=division(a)\n",
    "        (b11,b12,b21,b22)=division(b)\n",
    "        (c11,c12,c21,c22)=division(c)\n",
    "        s1=matrix_add_sub(b12,b22,0)\n",
    "        s2=matrix_add_sub(a11,a12,1)\n",
    "        s3=matrix_add_sub(a21,a22,1)\n",
    "        s4=matrix_add_sub(b21,b11,0)\n",
    "        s5=matrix_add_sub(a11,a22,1)\n",
    "        s6=matrix_add_sub(b11,b22,1)\n",
    "        s7=matrix_add_sub(a12,a22,0)\n",
    "        s8=matrix_add_sub(b21,b22,1)\n",
    "        s9=matrix_add_sub(a11,a21,0)\n",
    "        s10=matrix_add_sub(b11,b12,1)\n",
    "        p1=matrix_strassen(a11,s1)\n",
    "        p2=matrix_strassen(s2,b22)\n",
    "        p3=matrix_strassen(s3,b11)\n",
    "        p4=matrix_strassen(a22,s4)\n",
    "        p5=matrix_strassen(s5,s6)\n",
    "        p6=matrix_strassen(s7,s8)\n",
    "        p7=matrix_strassen(s9,s10)\n",
    "        c11=matrix_add_sub(matrix_add_sub(matrix_add_sub(p5,p4,1),p2,0),p6,1)\n",
    "        c12=matrix_add_sub(p1,p2,1)\n",
    "        c21=matrix_add_sub(p3,p4,1)\n",
    "        c22=matrix_add_sub(matrix_add_sub(matrix_add_sub(p5,p1,1),p3,0),p7,0)\n",
    "        c=matrix_combination(c11,c12,c21,c22)\n",
    "    return c\n",
    " \n",
    "#矩阵的strssen算法\n",
    "def division(a):                              #对矩阵进行分解操作\n",
    "    n=len(a)//2\n",
    "    a11=[[0 for i in range(n)]for j in range(n)]\n",
    "    a12=[[0 for i in range(n)]for j in range(n)]\n",
    "    a21=[[0 for i in range(n)]for j in range(n)]\n",
    "    a22=[[0 for i in range(n)]for j in range(n)]\n",
    "    for i in range(n):\n",
    "        for j in range(n):\n",
    "            a11[i][j]=a[i][j]\n",
    "            a12[i][j]=a[i][j+n]\n",
    "            a21[i][j]=a[i+n][j]\n",
    "            a22[i][j]=a[i+n][j+n]\n",
    "    return (a11,a12,a21,a22)\n",
    " \n",
    "def matrix_add_sub(a,b,keys):\n",
    "    n = len(a)\n",
    "    c = [[0 for col in range(n)] for row in range(n)]\n",
    "    if keys==1:\n",
    "        for i in range(n):\n",
    "            for j in range(n):\n",
    "                c[i][j] = a[i][j]+b[i][j]\n",
    "    else:\n",
    "        for i in range(n):\n",
    "            for j in range(n):\n",
    "                c[i][j]=a[i][j]-b[i][j]\n",
    "    return c\n",
    "def matrix_combination(a11,a12,a21,a22):    #对矩阵进行组合操作\n",
    "    n2 = len(a11)\n",
    "    n=n2*2\n",
    "    a = [[0 for col in range(n)] for row in range(n)]\n",
    "    for i in range (0,n):\n",
    "        for j in range (0,n):\n",
    "            if i <= (n2-1) and j <= (n2-1):\n",
    "                a[i][j] = a11[i][j]\n",
    "            elif i <= (n2-1) and j > (n2-1):\n",
    "                a[i][j] = a12[i][j-n2]\n",
    "            elif i > (n2-1) and j <= (n2-1):\n",
    "                a[i][j] = a21[i-n2][j]\n",
    "            else:\n",
    "                a[i][j] = a22[i-n2][j-n2]\n",
    "    return a\n",
    " \n",
    "a=[[1,1,1,1],[1,1,1,1],[2,2,2,2],[2,2,2,2]]\n",
    "b=a\n",
    "print(matrix_strassen(a,b))\n"
   ]
  },
  {
   "cell_type": "code",
   "execution_count": null,
   "metadata": {},
   "outputs": [],
   "source": []
  }
 ],
 "metadata": {
  "kernelspec": {
   "display_name": "Python 3",
   "language": "python",
   "name": "python3"
  },
  "language_info": {
   "codemirror_mode": {
    "name": "ipython",
    "version": 3
   },
   "file_extension": ".py",
   "mimetype": "text/x-python",
   "name": "python",
   "nbconvert_exporter": "python",
   "pygments_lexer": "ipython3",
   "version": "3.7.4"
  }
 },
 "nbformat": 4,
 "nbformat_minor": 2
}
