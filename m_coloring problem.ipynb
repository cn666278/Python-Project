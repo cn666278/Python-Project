{
 "cells": [
  {
   "cell_type": "code",
   "execution_count": 1,
   "metadata": {},
   "outputs": [
    {
     "name": "stdout",
     "output_type": "stream",
     "text": [
      "1,2,3,2,\n",
      "\n",
      "1,3,2,3,\n",
      "\n",
      "2,1,3,1,\n",
      "\n",
      "2,3,1,3,\n",
      "\n",
      "3,1,2,1,\n",
      "\n",
      "3,2,1,2,\n",
      "\n"
     ]
    }
   ],
   "source": [
    "# m_coloring problem\n",
    "\n",
    "def m_coloring(i):\n",
    "\n",
    "    if promising(i):\n",
    "        if i == n:  # last node\n",
    "            # print(vcolor)\n",
    "            for i in range(1, n+1):\n",
    "                print(vcolor[i], end=\",\")\n",
    "            print(\"\\n\")\n",
    "        else:\n",
    "            for color in range(1, m+1):   # try every color for next node\n",
    "                vcolor[i + 1] = color\n",
    "                m_coloring(i + 1)\n",
    "\n",
    "def promising(i):\n",
    "    j = 1\n",
    "    flag = True\n",
    "\n",
    "    while j < i and flag:  # i:current node;  j:previous node\n",
    "        if W[i][j] and vcolor[i] == vcolor[j]:  # connected and same color\n",
    "            flag = False  # dead end\n",
    "        j += 1\n",
    "\n",
    "    return flag\n",
    "\n",
    "\n",
    "m = 3   # number of colors\n",
    "n = 4   # number of nodes\n",
    "\n",
    "# W is the adjacent matrix that index from 1 to n\n",
    "W = [                   \n",
    "    [0, 0, 0, 0, 0],\n",
    "    [0, 0, 1, 1, 1],\n",
    "    [0, 1, 0, 1, 0],\n",
    "    [0, 1, 1, 0, 1],\n",
    "    [0, 1, 0, 1, 0],\n",
    "]\n",
    "\n",
    "vcolor = [0] * (n + 1)  # vector[i] is the color assign to node i\n",
    "m_coloring(0)  # top level call"
   ]
  },
  {
   "cell_type": "code",
   "execution_count": null,
   "metadata": {},
   "outputs": [],
   "source": []
  }
 ],
 "metadata": {
  "kernelspec": {
   "display_name": "Python 3",
   "language": "python",
   "name": "python3"
  },
  "language_info": {
   "codemirror_mode": {
    "name": "ipython",
    "version": 3
   },
   "file_extension": ".py",
   "mimetype": "text/x-python",
   "name": "python",
   "nbconvert_exporter": "python",
   "pygments_lexer": "ipython3",
   "version": "3.7.4"
  }
 },
 "nbformat": 4,
 "nbformat_minor": 2
}
