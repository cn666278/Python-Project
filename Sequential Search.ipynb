{
 "cells": [
  {
   "cell_type": "code",
   "execution_count": 16,
   "metadata": {},
   "outputs": [
    {
     "name": "stdout",
     "output_type": "stream",
     "text": [
      "Enter the value you want to search: 4\n",
      "Element found at location(indexed from 0):  3\n"
     ]
    }
   ],
   "source": [
    "def seqsearch(n, S, x, location):\n",
    "    location = 0\n",
    "    while location < n:\n",
    "        location += 1\n",
    "        if S[location] == x:\n",
    "            return location\n",
    "    \n",
    "    if location >= n:\n",
    "        return -1\n",
    "\n",
    "\n",
    "S = [1, 2, 3, 4, 5]\n",
    "x = int(input(\"Enter the value you want to search: \"))\n",
    "\n",
    "output = seqsearch(5, S, x, location)\n",
    "if output != -1:\n",
    "    print('Element found at location(indexed from 0): ', str(output))\n",
    "else:\n",
    "    print('Element is not found')\n"
   ]
  },
  {
   "cell_type": "code",
   "execution_count": null,
   "metadata": {},
   "outputs": [],
   "source": []
  }
 ],
 "metadata": {
  "kernelspec": {
   "display_name": "Python 3",
   "language": "python",
   "name": "python3"
  },
  "language_info": {
   "codemirror_mode": {
    "name": "ipython",
    "version": 3
   },
   "file_extension": ".py",
   "mimetype": "text/x-python",
   "name": "python",
   "nbconvert_exporter": "python",
   "pygments_lexer": "ipython3",
   "version": "3.7.4"
  }
 },
 "nbformat": 4,
 "nbformat_minor": 2
}
