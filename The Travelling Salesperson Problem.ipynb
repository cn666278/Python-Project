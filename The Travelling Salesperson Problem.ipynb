{
 "cells": [
  {
   "cell_type": "code",
   "execution_count": 12,
   "metadata": {},
   "outputs": [
    {
     "name": "stdout",
     "output_type": "stream",
     "text": [
      "The minimum length is: 59\n",
      "The best path is: ['1', '2', '3', '4']\n",
      "\n",
      "The minimum length is: 25\n",
      "The best path is: ['1', '4', '2', '3']\n",
      "\n"
     ]
    },
    {
     "data": {
      "text/plain": [
       "25"
      ]
     },
     "execution_count": 12,
     "metadata": {},
     "output_type": "execute_result"
    }
   ],
   "source": [
    "# Using Branch-and-Bound method\n",
    "\n",
    "import math\n",
    "from heapq import *\n",
    " \n",
    "n=4\n",
    "x = [1, 2, 3, 4]\n",
    "# 定义图的字典形式\n",
    "G = {\n",
    "    '1': {'2': 30, '3': 6, '4': 4},\n",
    "    '2': {'1': 30, '3': 5, '4': 10},\n",
    "    '3': {'1': 6, '2': 5, '4': 20},\n",
    "    '4': {'1': 4, '2': 10, '3': 20}\n",
    "}\n",
    "\n",
    "# 定义图的数组形式\n",
    "graph = [\n",
    "    [0, 30, 6, 4],\n",
    "    [30, 0, 5, 10],\n",
    "    [6, 5, 0 , 20],\n",
    "    [4, 10, 20, 0]\n",
    "]\n",
    " \n",
    "# bestcost = 1<<32 # 这里只要是一个很大数就行了 无穷其实也可以\n",
    "minlength = math.inf # 好吧 干脆就无穷好了\n",
    "nowcost = 0    # 全局变量，现在的花费\n",
    " \n",
    "# 设置节点类\n",
    "class Node:\n",
    "    # 构造函数，现在的花费，到目前的路径\n",
    "    def __init__(self, w = math.inf, path = [], cost= 0):\n",
    "        self.weight = w\n",
    "        self.path = path\n",
    "        self.cost = cost\n",
    "        \n",
    "    # 重载比较，用于堆的排序\n",
    "    def __lt__(self,other):\n",
    "        return int(self.weight) < int(other.weight)\n",
    "    \n",
    "    # Print\n",
    "    def __str__(self):\n",
    "        return \"节点的权重为\"+str(self.weight)+\" 节点的路径为\"+str(self.path)+\" 花费为\"+str(self.cost)\n",
    "        \n",
    "def BBTSP(graph, n, s):\n",
    "    global minlength, bestpath\n",
    "    heap = []\n",
    "    \n",
    "    start = Node(path=[str(s)])\n",
    "    \n",
    "    heap.append(start)\n",
    "    \n",
    "    # 当堆中有数的时候，循环继续\n",
    "    while heap:\n",
    "        nownode = heappop(heap)    # 取出权重最大的那个数\n",
    "        # 生成权重最大的那个数的下结点，并且把下结点加入堆中\n",
    "        for e in [r for r in graph if r not in nownode.path]:\n",
    "            node = Node(w=graph[nownode.path[-1]][e], path=nownode.path+[e], cost=nownode.cost+graph[nownode.path[-1]][e])\n",
    "            # 如果现在的值大于最优值，剪枝操作\n",
    "            if node.cost >= minlength:\n",
    "                continue\n",
    "            # 如果到了最后一个点，加上回去的路，并计算最小值\n",
    "            if len(node.path)==4:\n",
    "                bound = graph[node.path[-1]][s] + node.cost\n",
    "                if bound < minlength:\n",
    "                    minlength = bound\n",
    "                    bestpath = node.path\n",
    "                    print(\"The minimum length is: \" + str(minlength))\n",
    "                    print(\"The best path is: \" + str(bestpath) + \"\\n\")\n",
    "                    \n",
    "            heap.append(node)\n",
    " \n",
    "        \n",
    "    return minlength\n",
    "        \n",
    "    \n",
    "BBTSP(G, n, '1')\n"
   ]
  },
  {
   "cell_type": "code",
   "execution_count": null,
   "metadata": {},
   "outputs": [],
   "source": []
  }
 ],
 "metadata": {
  "kernelspec": {
   "display_name": "Python 3",
   "language": "python",
   "name": "python3"
  },
  "language_info": {
   "codemirror_mode": {
    "name": "ipython",
    "version": 3
   },
   "file_extension": ".py",
   "mimetype": "text/x-python",
   "name": "python",
   "nbconvert_exporter": "python",
   "pygments_lexer": "ipython3",
   "version": "3.7.4"
  }
 },
 "nbformat": 4,
 "nbformat_minor": 2
}
