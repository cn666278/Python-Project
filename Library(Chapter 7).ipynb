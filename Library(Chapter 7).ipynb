{
 "cells": [
  {
   "cell_type": "code",
   "execution_count": 3,
   "metadata": {},
   "outputs": [
    {
     "name": "stdout",
     "output_type": "stream",
     "text": [
      "please enter your name:chnnuo\n",
      "Hello, chnnuo.\n"
     ]
    }
   ],
   "source": [
    "# User input and while loop\n",
    "message = input(\"please enter your name:\")\n",
    "print(\"Hello, \" + message + \".\")"
   ]
  },
  {
   "cell_type": "code",
   "execution_count": 5,
   "metadata": {},
   "outputs": [
    {
     "name": "stdout",
     "output_type": "stream",
     "text": [
      "Enter the age of you:5\n",
      "5\n",
      "You still are a child.\n"
     ]
    }
   ],
   "source": [
    "# Convert the String to int\n",
    "age = input(\"Enter the age of you:\")\n",
    "age = int(age)\n",
    "print(age)\n",
    "\n",
    "if age >= 18:\n",
    "    print(\"You are an adult already!\")\n",
    "else:\n",
    "    print(\"You still are a child.\")"
   ]
  },
  {
   "cell_type": "code",
   "execution_count": 7,
   "metadata": {},
   "outputs": [
    {
     "name": "stdout",
     "output_type": "stream",
     "text": [
      "Please enter a number,then I will tell you it is odd or even: 5\n",
      "5 is a odd number.\n"
     ]
    }
   ],
   "source": [
    "# Justify the number is odd or even\n",
    "number = input(\"Please enter a number,then I will tell you it is odd or even: \")\n",
    "number = int(number)\n",
    "if number % 2 == 0:\n",
    "    print(str(number) + \" is a even number.\") # Note that now number is int type!\n",
    "else:\n",
    "    print(str(number) + \" is a odd number.\")"
   ]
  },
  {
   "cell_type": "code",
   "execution_count": 9,
   "metadata": {},
   "outputs": [
    {
     "name": "stdout",
     "output_type": "stream",
     "text": [
      "1\n",
      "2\n",
      "3\n",
      "4\n",
      "5\n",
      "\n",
      "Tell me something and I will repeat it back to you:\n",
      "Enter 'quit' to end this programm.gay\n",
      "gay\n",
      "\n",
      "Tell me something and I will repeat it back to you:\n",
      "Enter 'quit' to end this programm.boy\n",
      "boy\n",
      "\n",
      "Tell me something and I will repeat it back to you:\n",
      "Enter 'quit' to end this programm.quit\n",
      "quit\n"
     ]
    }
   ],
   "source": [
    "# While loop\n",
    "current_num = 1\n",
    "while current_num <= 5:\n",
    "    print(current_num)\n",
    "    current_num += 1\n",
    "    \n",
    "prompt = \"\\nTell me something and I will repeat it back to you:\"\n",
    "prompt += \"\\nEnter 'quit' to end this programm.\"\n",
    "message = \"\"\n",
    "while message != 'quit':\n",
    "    message = input(prompt)\n",
    "    print(message)"
   ]
  },
  {
   "cell_type": "code",
   "execution_count": 10,
   "metadata": {},
   "outputs": [
    {
     "name": "stdout",
     "output_type": "stream",
     "text": [
      "\n",
      "Tell me something and I will repeat it back to you:\n",
      "Enter 'quit' to end this programm.gay\n",
      "gay\n",
      "\n",
      "Tell me something and I will repeat it back to you:\n",
      "Enter 'quit' to end this programm.quit\n"
     ]
    }
   ],
   "source": [
    "# Mark (Ture/False)\n",
    "active = True\n",
    "while active:\n",
    "    message = input(prompt)\n",
    "    if message == 'quit':\n",
    "        active = False\n",
    "    else:\n",
    "        print(message)"
   ]
  },
  {
   "cell_type": "code",
   "execution_count": 11,
   "metadata": {},
   "outputs": [
    {
     "name": "stdout",
     "output_type": "stream",
     "text": [
      "\n",
      "Tell me something and I will repeat it back to you:\n",
      "Enter 'quit' to end this programm.quit\n"
     ]
    }
   ],
   "source": [
    "# Break\n",
    "\n",
    "while True:\n",
    "    message = input(prompt)\n",
    "    if message == 'quit':\n",
    "        break\n",
    "    else:\n",
    "        print(message)"
   ]
  },
  {
   "cell_type": "code",
   "execution_count": 1,
   "metadata": {},
   "outputs": [
    {
     "name": "stdout",
     "output_type": "stream",
     "text": [
      "0\n",
      "2\n",
      "4\n",
      "6\n",
      "8\n",
      "10\n"
     ]
    }
   ],
   "source": [
    "# Continue\n",
    "current_num = -1\n",
    "while current_num <= 10:\n",
    "    current_num += 1\n",
    "    if current_num % 2 != 0:\n",
    "        continue\n",
    "    print(current_num)\n",
    "    #current_num += 1   # Will cause infinity loop"
   ]
  },
  {
   "cell_type": "code",
   "execution_count": 9,
   "metadata": {},
   "outputs": [
    {
     "name": "stdout",
     "output_type": "stream",
     "text": [
      "Verifying user: Tony\n",
      "Verifying user: Sam\n",
      "Verifying user: Alice\n",
      "\n",
      "Here are the users have been vonfirmed\n",
      "Tony\n",
      "Sam\n",
      "Alice\n",
      "\n",
      "Here are the list of pets before deleting:\n",
      "['dog', 'cat', 'tigger', 'bird', 'cat', 'rabbit', 'cat']\n",
      "\n",
      "Here are the list of pets after deleting:\n",
      "['dog', 'tigger', 'bird', 'rabbit']\n"
     ]
    }
   ],
   "source": [
    "# Using while loop to edit with list\n",
    "unconfirmed_users = ['alice','sam','tony']\n",
    "confirmed_users = []\n",
    "\n",
    "while unconfirmed_users:\n",
    "    current_user = unconfirmed_users.pop()\n",
    "    \n",
    "    print(\"Verifying user: \" + current_user.title())\n",
    "    confirmed_users.append(current_user)\n",
    "    \n",
    "print(\"\\nHere are the users have been vonfirmed\")\n",
    "for confirmed_user in confirmed_users:\n",
    "    print(confirmed_user.title())\n",
    "    \n",
    "# Deleting all the specific value in a list\n",
    "pets = ['dog','cat','tigger','bird','cat','rabbit','cat']\n",
    "print(\"\\nHere are the list of pets before deleting:\\n\" + str(pets))\n",
    "\n",
    "while 'cat' in pets:\n",
    "    pets.remove('cat')\n",
    "print(\"\\nHere are the list of pets after deleting:\\n\" + str(pets))\n"
   ]
  },
  {
   "cell_type": "code",
   "execution_count": 13,
   "metadata": {},
   "outputs": [
    {
     "name": "stdout",
     "output_type": "stream",
     "text": [
      "Enter your name:gay\n",
      "Which mountain you like to climb somday?Winterfel\n",
      "Woulde you like to let another person respond?(Yes/No)Yes\n",
      "Enter your name:Karicy\n",
      "Which mountain you like to climb somday?Dragon Stone\n",
      "Woulde you like to let another person respond?(Yes/No)Yes\n",
      "Enter your name:Imp\n",
      "Which mountain you like to climb somday?Kingslanding\n",
      "Woulde you like to let another person respond?(Yes/No)No\n",
      "\n",
      "------------Results------------\n",
      "gay would like to climb Winterfel.\n",
      "Karicy would like to climb Dragon Stone.\n",
      "Imp would like to climb Kingslanding.\n"
     ]
    }
   ],
   "source": [
    "# Using while loop to edit with dictionary\n",
    "responses = {}\n",
    "\n",
    "active = True\n",
    "\n",
    "while active:\n",
    "    name = input(\"Enter your name:\")\n",
    "    response = input(\"Which mountain you like to climb somday?\")\n",
    "    \n",
    "    responses[name] = response\n",
    "    \n",
    "    repeat = input(\"Woulde you like to let another person respond?(Yes/No)\")\n",
    "    if repeat == 'No':\n",
    "        active = False\n",
    "\n",
    "print(\"\\n------------Results------------\")\n",
    "for name, response in responses.items():\n",
    "    print(name.title() + \" would like to climb the \" + response + \".\")"
   ]
  },
  {
   "cell_type": "code",
   "execution_count": null,
   "metadata": {},
   "outputs": [],
   "source": []
  }
 ],
 "metadata": {
  "kernelspec": {
   "display_name": "Python 3",
   "language": "python",
   "name": "python3"
  },
  "language_info": {
   "codemirror_mode": {
    "name": "ipython",
    "version": 3
   },
   "file_extension": ".py",
   "mimetype": "text/x-python",
   "name": "python",
   "nbconvert_exporter": "python",
   "pygments_lexer": "ipython3",
   "version": "3.7.4"
  }
 },
 "nbformat": 4,
 "nbformat_minor": 2
}
