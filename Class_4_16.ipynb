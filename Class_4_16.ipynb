{
 "cells": [
  {
   "cell_type": "code",
   "execution_count": 2,
   "metadata": {},
   "outputs": [
    {
     "name": "stdout",
     "output_type": "stream",
     "text": [
      "Enter the mark: 0\n",
      "Fail\n"
     ]
    }
   ],
   "source": [
    "# Entering control(acception handling)      -------------------------!!!! Note !!!!---------------------\n",
    "try:\n",
    "    mark = int(input(\"Enter the mark: \"))\n",
    "    if (mark >= 80) & (mark <= 100):\n",
    "        print(\"A\")\n",
    "    elif (mark >=70) & (mark < 80):\n",
    "        print('B')\n",
    "    elif (mark >= 60) & (mark < 70):\n",
    "        print('C')\n",
    "    elif (mark >= 50) & (mark < 60):\n",
    "        print('Pass')\n",
    "    else:\n",
    "        print('Fail')\n",
    "except:\n",
    "    print(\"Invalid input,please enter the integer only\") # Exception"
   ]
  },
  {
   "cell_type": "code",
   "execution_count": 13,
   "metadata": {},
   "outputs": [
    {
     "name": "stdout",
     "output_type": "stream",
     "text": [
      "99\n"
     ]
    }
   ],
   "source": [
    "#Exercise\n",
    "data = [10,20,39,17,29,99]\n",
    "# for i in range(1,6):\n",
    "#    data += [i]\n",
    "# print(data)\n",
    "max_value = data[0]\n",
    "for i in range(1,6):    # index from 1-5 only 不包含6.\n",
    "    if max_value < data[i]: \n",
    "        max_value = data[i]\n",
    "\n",
    "print(max_value)\n"
   ]
  },
  {
   "cell_type": "code",
   "execution_count": 18,
   "metadata": {},
   "outputs": [
    {
     "name": "stdout",
     "output_type": "stream",
     "text": [
      "20 22 24 26 28 \n",
      "\n",
      "20 22 24 26 28 30 "
     ]
    }
   ],
   "source": [
    "for count in range(20, 30, 2):    #startValue endValue gap\n",
    "    print(count,end = \" \")\n",
    "    \n",
    "print(\"\\n\")\n",
    "for count in range(20, 31, 2):    #startValue endValue gap\n",
    "    print(count,end = \" \")"
   ]
  },
  {
   "cell_type": "code",
   "execution_count": 20,
   "metadata": {},
   "outputs": [
    {
     "name": "stdout",
     "output_type": "stream",
     "text": [
      "[1, 2, 10, 4, 5] [1, 2, 10, 4, 5]\n"
     ]
    }
   ],
   "source": [
    "listA = [1,2,3,4,5]\n",
    "listB = listA\n",
    "listB[2] = 10\n",
    "# listA[1] = 99\n",
    "# list B will change too\n",
    "print(listA , listB) #listA cahnge also!!!   # Mutable in list(B takes the A's address)"
   ]
  },
  {
   "cell_type": "code",
   "execution_count": 19,
   "metadata": {},
   "outputs": [
    {
     "name": "stdout",
     "output_type": "stream",
     "text": [
      "[1, 2, 3, 4, 5, 6, 7, 8, 9]\n"
     ]
    }
   ],
   "source": [
    "appList = []\n",
    "for count in range(1,10):\n",
    "    appList += [count]  # Store(Combine) the value of [count] to appList[]\n",
    "print(appList)"
   ]
  },
  {
   "cell_type": "code",
   "execution_count": 22,
   "metadata": {},
   "outputs": [
    {
     "name": "stdout",
     "output_type": "stream",
     "text": [
      "['1 is Odd', '2 is Even', '3 is Odd', '4 is Even', '5 is Odd', '6 is Even', '7 is Odd', '8 is Even', '9 is Odd', '10 is Even']\n"
     ]
    }
   ],
   "source": [
    "list1 = []\n",
    "for count in range(1,11):\n",
    "    if count % 2 == 0:\n",
    "        list1.append(str(count) + ' is Even')\n",
    "    else:\n",
    "        list1.append(str(count) + ' is Odd')\n",
    "print(list1)"
   ]
  },
  {
   "cell_type": "code",
   "execution_count": null,
   "metadata": {},
   "outputs": [],
   "source": []
  }
 ],
 "metadata": {
  "kernelspec": {
   "display_name": "Python 3",
   "language": "python",
   "name": "python3"
  },
  "language_info": {
   "codemirror_mode": {
    "name": "ipython",
    "version": 3
   },
   "file_extension": ".py",
   "mimetype": "text/x-python",
   "name": "python",
   "nbconvert_exporter": "python",
   "pygments_lexer": "ipython3",
   "version": "3.7.4"
  }
 },
 "nbformat": 4,
 "nbformat_minor": 2
}
