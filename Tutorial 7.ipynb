{
 "cells": [
  {
   "cell_type": "code",
   "execution_count": 6,
   "metadata": {},
   "outputs": [
    {
     "name": "stdout",
     "output_type": "stream",
     "text": [
      "The minimum length is: 59\n",
      "The best path is: ['1', '2', '3', '4']\n",
      "\n",
      "The minimum length is: 25\n",
      "The best path is: ['1', '4', '2', '3']\n",
      "\n"
     ]
    },
    {
     "data": {
      "text/plain": [
       "25"
      ]
     },
     "execution_count": 6,
     "metadata": {},
     "output_type": "execute_result"
    }
   ],
   "source": [
    "# Using Branch-and-Bound method\n",
    "\n",
    "import math\n",
    "from heapq import *\n",
    " \n",
    "n=4\n",
    "x = [1, 2, 3, 4]\n",
    "\n",
    "G = {\n",
    "    '1': {'2': 30, '3': 6, '4': 4},\n",
    "    '2': {'1': 30, '3': 5, '4': 10},\n",
    "    '3': {'1': 6, '2': 5, '4': 20},\n",
    "    '4': {'1': 4, '2': 10, '3': 20}\n",
    "}\n",
    "\n",
    "graph = [\n",
    "    [0, 30, 6, 4],\n",
    "    [30, 0, 5, 10],\n",
    "    [6, 5, 0 , 20],\n",
    "    [4, 10, 20, 0]\n",
    "]\n",
    " \n",
    "minlength = math.inf \n",
    "nowcost = 0   \n",
    " \n",
    "class Node:\n",
    "    def __init__(self, w = math.inf, path = [], cost= 0):\n",
    "        self.weight = w\n",
    "        self.path = path\n",
    "        self.cost = cost\n",
    "        \n",
    "    def __lt__(self,other):\n",
    "        return int(self.weight) < int(other.weight)\n",
    "    \n",
    "    # Print\n",
    "    def __str__(self):\n",
    "        return \"The weight of node: \"+str(self.weight)+\" the path of node: \"+str(self.path)+\" cost: \"+str(self.cost)\n",
    "        \n",
    "def BBTSP(graph, n, s):\n",
    "    global minlength, bestpath\n",
    "    heap = []\n",
    "    \n",
    "    start = Node(path=[str(s)])\n",
    "    \n",
    "    heap.append(start)\n",
    "    \n",
    "    while heap:\n",
    "        nownode = heappop(heap)   \n",
    "        for e in [r for r in graph if r not in nownode.path]:\n",
    "            node = Node(w=graph[nownode.path[-1]][e], path=nownode.path+[e], cost=nownode.cost+graph[nownode.path[-1]][e])\n",
    "            if node.cost >= minlength:\n",
    "                continue\n",
    "            if len(node.path)==4:\n",
    "                bound = graph[node.path[-1]][s] + node.cost\n",
    "                if bound < minlength:\n",
    "                    minlength = bound\n",
    "                    bestpath = node.path\n",
    "                    print(\"The minimum length is: \" + str(minlength))\n",
    "                    print(\"The best path is: \" + str(bestpath) + \"\\n\")\n",
    "                    \n",
    "            heap.append(node)\n",
    " \n",
    "    return minlength\n",
    "        \n",
    "    \n",
    "BBTSP(G, n, '1')\n"
   ]
  },
  {
   "cell_type": "code",
   "execution_count": null,
   "metadata": {},
   "outputs": [],
   "source": []
  },
  {
   "cell_type": "code",
   "execution_count": null,
   "metadata": {},
   "outputs": [],
   "source": []
  }
 ],
 "metadata": {
  "kernelspec": {
   "display_name": "Python 3",
   "language": "python",
   "name": "python3"
  },
  "language_info": {
   "codemirror_mode": {
    "name": "ipython",
    "version": 3
   },
   "file_extension": ".py",
   "mimetype": "text/x-python",
   "name": "python",
   "nbconvert_exporter": "python",
   "pygments_lexer": "ipython3",
   "version": "3.7.4"
  }
 },
 "nbformat": 4,
 "nbformat_minor": 2
}
