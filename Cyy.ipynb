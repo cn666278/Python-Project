{
 "cells": [
  {
   "attachments": {
    "582413280567268480.png": {
     "image/png": "[encoded data removed]"
    }
   },
   "cell_type": "markdown",
   "metadata": {},
   "source": [
    "# Heap Sort\n",
    "\n",
    "### Time complexity:\n",
    "\n",
    "\n",
    "- #### Best case:\n",
    "the data need to be constructed as a complete binary-tree. The complexity is O(nlgn).\n",
    "\n",
    "- #### Worst case:\n",
    "each item needs to be sifted to the bottom. The upper bound of makeheap is   \n",
    "2^d -d -1 +d = 2^d – 1 = n – 1  \n",
    "Because there are two comparisons of keys for each siftdown operation, the number of comparisons of keys done by makeheap is at most 2(n-1).  \n",
    "The number of comparisons of keys done by removekeys is at most     \n",
    "![582413280567268480.png](attachment:582413280567268480.png)\n",
    "Totolly, the worst-case time complexity for Heapsort is   \n",
    "> W(n) ≈ 2nlgn ∈ (nlgn)\n",
    "\n",
    "- #### Average case:\n",
    "It is difficult to analyze Heapsort’s average-case time complexity analytically.   However, empirical studies have shown that its average case is not much better than its worst case. For the number of comparisons of keys, the time complexity is about 2nlgn.\n",
    "  \n",
    "\n",
    "### Space complexity:\n",
    "  The heap sort is an in-place algorithm. the space complexity is O(1).\n",
    "    \n",
    "    \n",
    "\n",
    "\n",
    "# Radix sort\n",
    "\n",
    "### Time complexity:\n",
    "\n",
    "- #### every case:\n",
    "numdigits passes of distribute and coalesce. n passes through the while loop in distribute. 10 passes through the for loop in coalesce. Each of these procedures is called numdigits times form radixsort. Therefore, \n",
    "> T(numdigits,n) = numdigits(n + 10) ∈ θ(nlgn)\n",
    "It is suitable for sorting records with 9 digits inreger.\n",
    "  \n",
    " \n",
    "### Space complexity:\n",
    "  In radix sort, the extra space is the space of the lists. Therefore, the extra space is belong to θ(n) lists."
   ]
  },
  {
   "cell_type": "code",
   "execution_count": null,
   "metadata": {},
   "outputs": [],
   "source": []
  }
 ],
 "metadata": {
  "kernelspec": {
   "display_name": "Python 3",
   "language": "python",
   "name": "python3"
  },
  "language_info": {
   "codemirror_mode": {
    "name": "ipython",
    "version": 3
   },
   "file_extension": ".py",
   "mimetype": "text/x-python",
   "name": "python",
   "nbconvert_exporter": "python",
   "pygments_lexer": "ipython3",
   "version": "3.7.4"
  }
 },
 "nbformat": 4,
 "nbformat_minor": 2
}
