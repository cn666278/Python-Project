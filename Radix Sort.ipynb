{
 "cells": [
  {
   "cell_type": "code",
   "execution_count": 15,
   "metadata": {},
   "outputs": [
    {
     "name": "stdout",
     "output_type": "stream",
     "text": [
      "[1, 22, 56, 90, 125, 413, 443, 566, 788, 998, 6747]\n"
     ]
    }
   ],
   "source": [
    "'''\n",
    "Radix Sort ---------------------------------------------\n",
    "1. 取得数组中的最大数，并取得位数；\n",
    "2. 对数位较短的数前面补零；\n",
    "3. 分配，先从个位开始，根据位值(0-9)分别放到0~9号桶中;\n",
    "4. 收集，再将放置在0~9号桶中的数据按顺序放到数组中;\n",
    "5. 重复3~4过程，直到最高位，即可完成排序。\n",
    "--------------------------------------------------------\n",
    "'''\n",
    "def radix_sort(arr):\n",
    "    n = len(str(max(arr)))                         # n is the number of digits of largest value\n",
    "    \n",
    "    for k in range(0,n):                           # make n round sort\n",
    "        # create 10 lists per round\n",
    "        bucket_list = [[] for i in range(10)]      # Create 10 piles for digits 0-9 \n",
    "        \n",
    "        for i in arr:\n",
    "            bucket_list[i // (10 ** k)%10].append(i)   # put the k-th value in the pile(** means exponentiation ex.2**3 = 8)\n",
    "            \n",
    "        # sort the lists in the order of piles\n",
    "        arr = [j for i in bucket_list for j in i]\n",
    "    return arr\n",
    "\n",
    "\n",
    "arr = [125,566,788,443,22,56,6747,413,1,90,998]\n",
    "# arr = [127232995,5333266,7833228,443333,2322,56,6743327,413,1,90,99338,289372987]\n",
    "print(radix_sort(arr))"
   ]
  },
  {
   "cell_type": "code",
   "execution_count": null,
   "metadata": {},
   "outputs": [],
   "source": []
  }
 ],
 "metadata": {
  "kernelspec": {
   "display_name": "Python 3",
   "language": "python",
   "name": "python3"
  },
  "language_info": {
   "codemirror_mode": {
    "name": "ipython",
    "version": 3
   },
   "file_extension": ".py",
   "mimetype": "text/x-python",
   "name": "python",
   "nbconvert_exporter": "python",
   "pygments_lexer": "ipython3",
   "version": "3.7.4"
  }
 },
 "nbformat": 4,
 "nbformat_minor": 2
}
