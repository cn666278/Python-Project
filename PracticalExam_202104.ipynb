{
 "cells": [
  {
   "cell_type": "code",
   "execution_count": null,
   "metadata": {},
   "outputs": [
    {
     "name": "stdout",
     "output_type": "stream",
     "text": [
      "Enter the car number: cs\n",
      "Enter the labour charge: 1\n",
      "Enter the cost of parts after servicing: 2\n"
     ]
    }
   ],
   "source": [
    "def partition(arr,low,high): \n",
    "    i = ( low - 1 )         \n",
    "    pivot = arr[high]     \n",
    "  \n",
    "    for j in range(low , high): \n",
    "  \n",
    "        if   arr[j] <= pivot: \n",
    "          \n",
    "            i = i+1 \n",
    "            arr[i],arr[j] = arr[j],arr[i] \n",
    "  \n",
    "    arr[i+1],arr[high] = arr[high],arr[i+1] \n",
    "    return ( i+1 ) \n",
    "\n",
    "def quickSort(arr,low,high): \n",
    "    if low < high: \n",
    "  \n",
    "        pi = partition(arr,low,high) \n",
    "  \n",
    "        quickSort(arr, low, pi-1) \n",
    "        quickSort(arr, pi+1, high) \n",
    "    return arr\n",
    "\n",
    "def getDailyService(day):\n",
    "    global service \n",
    "    service = []\n",
    "    \n",
    "    for i in range(0,day):\n",
    "        car_nums = input(\"Enter the car number: \")\n",
    "        labour_charge = float(input(\"Enter the labour charge: \"))\n",
    "        cost = float(input(\"Enter the cost of parts after servicing: \"))\n",
    "        service.append(car_nums)\n",
    "        service.append(labour_charge)\n",
    "        service.append(cost)  # cost of parts after servicing each car\n",
    "    return service\n",
    "\n",
    "# calculate total bill for each\n",
    "# car for a particular day. Every bill should include 6% of government tax. \n",
    "                \n",
    "def calculateDailyBill(service):\n",
    "    global bill\n",
    "    bill = []\n",
    "    for i in range(0,len(service)-2):\n",
    "        total = float(service[i+1]) + float(service[i+2])\n",
    "        tax = total * 0.06\n",
    "        total_cost = tax + total\n",
    "        bill.append(total_cost)\n",
    "    return bill\n",
    "\n",
    "def weeklyService():\n",
    "    getDailyService(7)    \n",
    "    calculateDailyBill(service)\n",
    "    quickSort(bill,0,len(bill)-1) \n",
    "    \n",
    "    with open('Weekly_Service.txt',mode = 'w') as sevices:\n",
    "        for i in range(0,len(service)-2):\n",
    "                sevices.write(str(service[i]))\n",
    "                sevices.write(str(service[i+1]))\n",
    "                sevices.write(str(service[i+2]))\n",
    "                sevices.write(str(bill[i]))\n",
    "\n",
    "    #sevices = open('Weekly_Service.txt',mode = 'r') # read mode\n",
    "    #print(sevices.readline())\n",
    "   \n",
    "    \n",
    "weeklyService()"
   ]
  },
  {
   "cell_type": "code",
   "execution_count": null,
   "metadata": {},
   "outputs": [],
   "source": []
  }
 ],
 "metadata": {
  "kernelspec": {
   "display_name": "Python 3",
   "language": "python",
   "name": "python3"
  },
  "language_info": {
   "codemirror_mode": {
    "name": "ipython",
    "version": 3
   },
   "file_extension": ".py",
   "mimetype": "text/x-python",
   "name": "python",
   "nbconvert_exporter": "python",
   "pygments_lexer": "ipython3",
   "version": "3.7.4"
  }
 },
 "nbformat": 4,
 "nbformat_minor": 2
}
