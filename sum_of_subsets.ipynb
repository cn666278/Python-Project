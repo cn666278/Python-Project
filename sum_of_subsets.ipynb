{
 "cells": [
  {
   "cell_type": "code",
   "execution_count": 2,
   "metadata": {},
   "outputs": [
    {
     "name": "stdout",
     "output_type": "stream",
     "text": [
      "['yes', 'yes', 'yes', 'no', 'no']\n",
      "['yes', 'no', 'no', 'no', 'yes']\n",
      "['no', 'no', 'yes', 'yes', 'no']\n"
     ]
    }
   ],
   "source": [
    "# sum_of_subsets\n",
    "\n",
    "def sum_of_subsets(i, weight, remain):\n",
    "    global w\n",
    "    global W\n",
    "    global n\n",
    "    global include\n",
    "\n",
    "    if promising(i, weight, remain):\n",
    "        if weight == W:\n",
    "            print(include)\n",
    "        else:\n",
    "            include[i + 1] = \"yes\"\n",
    "            sum_of_subsets(i + 1, weight + w[i + 1], remain - w[i + 1])\n",
    "            include[i + 1] = \"no\"\n",
    "            sum_of_subsets(i + 1, weight, remain - w[i + 1])\n",
    "\n",
    "\n",
    "def promising(i, weight, remain):\n",
    "    return (weight + remain >= W) and (weight == W or weight + w[i + 1] <= W)\n",
    "\n",
    "\n",
    "w = [5, 6, 10, 11, 16]\n",
    "W = 21\n",
    "n = len(w)\n",
    "include = ['no'] * n\n",
    "remain = sum(w)\n",
    "sum_of_subsets(-1, 0, remain)"
   ]
  },
  {
   "cell_type": "code",
   "execution_count": null,
   "metadata": {},
   "outputs": [],
   "source": []
  }
 ],
 "metadata": {
  "kernelspec": {
   "display_name": "Python 3",
   "language": "python",
   "name": "python3"
  },
  "language_info": {
   "codemirror_mode": {
    "name": "ipython",
    "version": 3
   },
   "file_extension": ".py",
   "mimetype": "text/x-python",
   "name": "python",
   "nbconvert_exporter": "python",
   "pygments_lexer": "ipython3",
   "version": "3.7.4"
  }
 },
 "nbformat": 4,
 "nbformat_minor": 2
}
