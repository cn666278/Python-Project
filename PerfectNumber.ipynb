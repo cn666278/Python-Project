{
 "cells": [
  {
   "cell_type": "code",
   "execution_count": 5,
   "metadata": {},
   "outputs": [
    {
     "name": "stdout",
     "output_type": "stream",
     "text": [
      "Enter your num:6\n",
      "True\n"
     ]
    }
   ],
   "source": [
    " def checkPerfectNumber(num):        \n",
    "    sum = 0\n",
    "    \n",
    "    # 因为一个数的正因子都是成对出现的（12:（2,6）（3,4））\n",
    "    # so we used num // 2 + 1 (最低为 2 -> 对于最大因子为 num/2\n",
    "    # 但是python中不包含num/2,所以用floor函数 num // 2 +1 来获取它）\n",
    "    \n",
    "    for i in range(1, num // 2 + 1):\n",
    "        # Find the factor of num\n",
    "        if num % i == 0:\n",
    "            sum += i\n",
    "            \n",
    "    if(sum == num):\n",
    "        # print(\"Perfect number: \" , i)\n",
    "        return True\n",
    "    else:\n",
    "        return False\n",
    "    \n",
    "num = int(input(\"Enter your num:\")) # input should be a integer type\n",
    "print(checkPerfectNumber(num))"
   ]
  },
  {
   "cell_type": "code",
   "execution_count": null,
   "metadata": {},
   "outputs": [],
   "source": []
  },
  {
   "cell_type": "code",
   "execution_count": null,
   "metadata": {},
   "outputs": [],
   "source": [
    "6"
   ]
  }
 ],
 "metadata": {
  "kernelspec": {
   "display_name": "Python 3",
   "language": "python",
   "name": "python3"
  },
  "language_info": {
   "codemirror_mode": {
    "name": "ipython",
    "version": 3
   },
   "file_extension": ".py",
   "mimetype": "text/x-python",
   "name": "python",
   "nbconvert_exporter": "python",
   "pygments_lexer": "ipython3",
   "version": "3.7.4"
  }
 },
 "nbformat": 4,
 "nbformat_minor": 2
}
