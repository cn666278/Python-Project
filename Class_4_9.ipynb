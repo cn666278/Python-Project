{
 "cells": [
  {
   "cell_type": "code",
   "execution_count": 1,
   "metadata": {},
   "outputs": [
    {
     "name": "stdout",
     "output_type": "stream",
     "text": [
      "Hello World\n"
     ]
    }
   ],
   "source": [
    "\n",
    "print(\"Hello World\")"
   ]
  },
  {
   "cell_type": "code",
   "execution_count": 1,
   "metadata": {},
   "outputs": [
    {
     "name": "stdout",
     "output_type": "stream",
     "text": [
      "gay\n",
      "the number of num is 10\n",
      "The number of num is 10\n"
     ]
    }
   ],
   "source": [
    "'''\n",
    "This is a gay\n",
    "'''\n",
    "print(\"gay\")\n",
    "num = 10\n",
    "print(\"the number of num is \" + str(num))\n",
    "print(\"The number of num is\",num)      #same"
   ]
  },
  {
   "cell_type": "code",
   "execution_count": 14,
   "metadata": {},
   "outputs": [
    {
     "name": "stdout",
     "output_type": "stream",
     "text": [
      "Enter number1: 1\n",
      "Enter number2: 2\n",
      "The output is: 3\n",
      "The output is: 3\n"
     ]
    }
   ],
   "source": [
    "num1 = int(input('Enter number1: '))\n",
    "num2 = int(input('Enter number2: '))\n",
    "output = num1 + num2\n",
    "print(\"The output is:\",output)    #自带空格\n",
    "print(\"The output is: \" + str(output))"
   ]
  },
  {
   "cell_type": "code",
   "execution_count": 15,
   "metadata": {},
   "outputs": [
    {
     "data": {
      "text/plain": [
       "2.23606797749979"
      ]
     },
     "execution_count": 15,
     "metadata": {},
     "output_type": "execute_result"
    }
   ],
   "source": [
    "import math\n",
    "math.sqrt(5) #平方根"
   ]
  },
  {
   "cell_type": "code",
   "execution_count": 16,
   "metadata": {},
   "outputs": [
    {
     "name": "stdout",
     "output_type": "stream",
     "text": [
      "2.24\n"
     ]
    }
   ],
   "source": [
    "from math import * # 引用所有math library\n",
    "print(float(\"{0:.2f}\".format(sqrt(5))))"
   ]
  },
  {
   "cell_type": "code",
   "execution_count": null,
   "metadata": {},
   "outputs": [],
   "source": []
  }
 ],
 "metadata": {
  "kernelspec": {
   "display_name": "Python 3",
   "language": "python",
   "name": "python3"
  },
  "language_info": {
   "codemirror_mode": {
    "name": "ipython",
    "version": 3
   },
   "file_extension": ".py",
   "mimetype": "text/x-python",
   "name": "python",
   "nbconvert_exporter": "python",
   "pygments_lexer": "ipython3",
   "version": "3.7.4"
  }
 },
 "nbformat": 4,
 "nbformat_minor": 2
}
