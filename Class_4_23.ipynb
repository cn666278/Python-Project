{
 "cells": [
  {
   "cell_type": "code",
   "execution_count": 1,
   "metadata": {},
   "outputs": [
    {
     "data": {
      "text/plain": [
       "55.0"
      ]
     },
     "execution_count": 1,
     "metadata": {},
     "output_type": "execute_result"
    }
   ],
   "source": [
    "#Function\n",
    "def average(num1,num2):\n",
    "    return (num1 + num2)/2\n",
    "\n",
    "average(50,60)\n",
    "#print(\"here are the function: \" , average(50,60))      #another express"
   ]
  },
  {
   "cell_type": "code",
   "execution_count": 3,
   "metadata": {},
   "outputs": [
    {
     "name": "stdout",
     "output_type": "stream",
     "text": [
      "The even number from 1 to 50 are: [2, 4, 6, 8, 10, 12, 14, 16, 18, 20, 22, 24, 26, 28, 30, 32, 34, 36, 38, 40, 42, 44, 46, 48, 50]\n"
     ]
    }
   ],
   "source": [
    "#Exercise: Write a program using Function to determine all the even numbers between 1 to 50\n",
    "def evenNumber(nums):\n",
    "    evenlist = []\n",
    "    for i in range (0,50):\n",
    "        if(nums[i]  % 2 == 0):\n",
    "            evenlist.append(nums[i])\n",
    "    return evenlist\n",
    "\n",
    "nums = []\n",
    "for num in range (1,51):\n",
    "    nums.append(num) # nums=[1..50]\n",
    "    \n",
    "print(\"The even number from 1 to 50 are: \" + str(evenNumber(nums)))\n",
    "    "
   ]
  },
  {
   "cell_type": "code",
   "execution_count": 4,
   "metadata": {},
   "outputs": [
    {
     "data": {
      "text/plain": [
       "27.5"
      ]
     },
     "execution_count": 4,
     "metadata": {},
     "output_type": "execute_result"
    }
   ],
   "source": [
    "def fun(*args):\n",
    "    return sum(args)/len(args)\n",
    "mark=[10,20,30,50]\n",
    "fun(*mark)    # *mark : all elements\n",
    "              # fun(10,20,30)\n"
   ]
  },
  {
   "cell_type": "code",
   "execution_count": 8,
   "metadata": {},
   "outputs": [
    {
     "data": {
      "text/plain": [
       "15"
      ]
     },
     "execution_count": 8,
     "metadata": {},
     "output_type": "execute_result"
    }
   ],
   "source": [
    "def increment(n):\n",
    "    return lambda m : m + n\n",
    "increment(34)(40)  # 74\n",
    "\n",
    "x = lambda p,q : p+q   \n",
    "x(5,6)     # 11\n",
    "\n",
    "def another_function(f,a,b):\n",
    "    return f(a,b)\n",
    "another_function(x,7,8)  # 15"
   ]
  },
  {
   "cell_type": "code",
   "execution_count": 11,
   "metadata": {},
   "outputs": [
    {
     "name": "stdout",
     "output_type": "stream",
     "text": [
      "Gayer\n",
      "12320\n",
      "MALE\n"
     ]
    }
   ],
   "source": [
    "#class (not exam)\n",
    "class Student:\n",
    "    def __init__(self, Name, ID, Gender):  # __ not _\n",
    "        self.name = Name\n",
    "        self.id = ID\n",
    "        self.gender = Gender\n",
    "s = Student('Gayer',12320,\"MALE\")\n",
    "print(s.name)\n",
    "print(s.id)\n",
    "print(s.gender)\n",
    "        "
   ]
  },
  {
   "cell_type": "code",
   "execution_count": null,
   "metadata": {},
   "outputs": [],
   "source": []
  }
 ],
 "metadata": {
  "kernelspec": {
   "display_name": "Python 3",
   "language": "python",
   "name": "python3"
  },
  "language_info": {
   "codemirror_mode": {
    "name": "ipython",
    "version": 3
   },
   "file_extension": ".py",
   "mimetype": "text/x-python",
   "name": "python",
   "nbconvert_exporter": "python",
   "pygments_lexer": "ipython3",
   "version": "3.7.4"
  }
 },
 "nbformat": 4,
 "nbformat_minor": 2
}
