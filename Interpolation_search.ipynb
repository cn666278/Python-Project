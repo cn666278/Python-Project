{
 "cells": [
  {
   "cell_type": "code",
   "execution_count": null,
   "metadata": {},
   "outputs": [],
   "source": [
    "# Interpolation_search\n",
    "def interpolation_search(n, S, x):\n",
    "    low = 0\n",
    "    high = n - 1\n",
    "    i = 0\n",
    "\n",
    "    if S[low] <= x <= S[high]:\n",
    "        while low <= high and i == 0:\n",
    "            denominator = S[high] - S[low]\n",
    "            if denominator == 0:\n",
    "                mid = low\n",
    "            else:\n",
    "                mid = low + int((x - S[low]) * (high - low) // denominator)\n",
    "            if x == S[mid]:\n",
    "                i = mid\n",
    "                return i\n",
    "            elif x < S[mid]:\n",
    "                high = mid - 1\n",
    "            else:\n",
    "                low = mid + 1\n",
    "    return -1\n",
    "\n",
    "\n",
    "S = [1, 2, 3, 4, 5, 6, 7, 8, 9, 100]\n",
    "n = len(S)\n",
    "\n",
    "key = int(input('Enter the key value to search:'))\n",
    "\n",
    "output = interpolation_search(n, S, key)\n",
    "\n",
    "if output != -1:\n",
    "    print('Element found at location(started from 0): ', str(output))\n",
    "else:\n",
    "    print('Element is not found')"
   ]
  }
 ],
 "metadata": {
  "kernelspec": {
   "display_name": "Python 3",
   "language": "python",
   "name": "python3"
  },
  "language_info": {
   "codemirror_mode": {
    "name": "ipython",
    "version": 3
   },
   "file_extension": ".py",
   "mimetype": "text/x-python",
   "name": "python",
   "nbconvert_exporter": "python",
   "pygments_lexer": "ipython3",
   "version": "3.7.4"
  }
 },
 "nbformat": 4,
 "nbformat_minor": 2
}
