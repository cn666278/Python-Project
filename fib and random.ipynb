{
 "cells": [
  {
   "cell_type": "code",
   "execution_count": 8,
   "metadata": {},
   "outputs": [
    {
     "name": "stdout",
     "output_type": "stream",
     "text": [
      "55\n"
     ]
    }
   ],
   "source": [
    "def fib(n):\n",
    "    if n <= 1:\n",
    "        return n\n",
    "    else:\n",
    "        return fib(n-1) + fib(n-2)\n",
    "    \n",
    "print(fib(10))\n",
    "    \n"
   ]
  },
  {
   "cell_type": "code",
   "execution_count": 4,
   "metadata": {},
   "outputs": [
    {
     "name": "stdout",
     "output_type": "stream",
     "text": [
      "4000\n"
     ]
    }
   ],
   "source": [
    "import random\n",
    "\n",
    "def randomize_permute(n,S):\n",
    "    for i in range(0,n):\n",
    "        j = random.randrange(i,n)\n",
    "        S[i],S[j] = S[j],S[i]\n",
    "    return S\n",
    "\n",
    "def randomize_hire_assistant(n,c,S):\n",
    "    S = randomize_permute(n,S)\n",
    "    return hire_assistant(n,c,S)\n",
    "\n",
    "def hire_assistant(n,c,S):\n",
    "    best = 0\n",
    "    cost = c   # candidate 0 is a must-hire dummy candidate\n",
    "    \n",
    "    for i in range(0,n):\n",
    "        if S[i] > best:   # hire candidate i\n",
    "            cost += c\n",
    "            best = S[i]\n",
    "            \n",
    "    return cost\n",
    "\n",
    "S = [1,2,3,4,5,6,7,8,9]\n",
    "n = len(S)\n",
    "c = 1000\n",
    "print(randomize_hire_assistant(n,c,S))"
   ]
  },
  {
   "cell_type": "code",
   "execution_count": null,
   "metadata": {},
   "outputs": [],
   "source": []
  },
  {
   "cell_type": "code",
   "execution_count": null,
   "metadata": {},
   "outputs": [],
   "source": []
  }
 ],
 "metadata": {
  "kernelspec": {
   "display_name": "Python 3",
   "language": "python",
   "name": "python3"
  },
  "language_info": {
   "codemirror_mode": {
    "name": "ipython",
    "version": 3
   },
   "file_extension": ".py",
   "mimetype": "text/x-python",
   "name": "python",
   "nbconvert_exporter": "python",
   "pygments_lexer": "ipython3",
   "version": "3.7.4"
  }
 },
 "nbformat": 4,
 "nbformat_minor": 2
}
