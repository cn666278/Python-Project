{
 "cells": [
  {
   "cell_type": "code",
   "execution_count": 19,
   "metadata": {},
   "outputs": [
    {
     "name": "stdout",
     "output_type": "stream",
     "text": [
      "[1, 2, 6, 8, 5]\n",
      "[1, 2, 5, 6, 8]\n",
      "[1, 2, 6, 8, 5]\n"
     ]
    }
   ],
   "source": [
    "\n",
    "def merge_sort(arr):\n",
    "    \"\"\"归并排序\"\"\"\n",
    "    if len(arr) == 1:\n",
    "        return arr\n",
    "    # using divide method to divide array into two sub array\n",
    "    mid = len(arr) // 2\n",
    "    left = arr[:mid]\n",
    "    right = arr[mid:]\n",
    "    # recursive left and right array\n",
    "    return merge(merge_sort(left), merge_sort(right))\n",
    "\n",
    "\n",
    "def merge(left, right):\n",
    "    \"\"\"排序合并两个数列\"\"\"\n",
    "    result = []\n",
    "    # 两个数列都有值\n",
    "    while len(left) > 0 and len(right) > 0:\n",
    "        # 左右两个数列第一个最小放前面\n",
    "        if left[0] <= right[0]:\n",
    "            result.append(left.pop(0))\n",
    "        else:\n",
    "            result.append(right.pop(0))\n",
    "    # 只有一个数列中还有值，直接添加\n",
    "    result += left\n",
    "    result += right\n",
    "    return result\n",
    "\n",
    "\n",
    "arr=[1,2,6,8,5]\n",
    "print(arr)\n",
    "print(merge_sort(arr))\n",
    "print(arr)\n",
    "\n"
   ]
  },
  {
   "cell_type": "code",
   "execution_count": 4,
   "metadata": {},
   "outputs": [
    {
     "name": "stdout",
     "output_type": "stream",
     "text": [
      "[1, 2, 6, 8, 5, 10, 7, 22, 3]\n",
      "[1, 2, 3, 5, 6, 7, 8, 10, 22]\n"
     ]
    }
   ],
   "source": [
    "def merge_sort(arr):\n",
    "    if len(arr) == 1:\n",
    "        return arr\n",
    "    # using divide method to divide array into two sub array\n",
    "    mid = len(arr) // 2\n",
    "    left = arr[:mid]\n",
    "    right = arr[mid:]\n",
    "    # recursive left and right array\n",
    "    return merge(merge_sort(left), merge_sort(right))\n",
    "\n",
    "\n",
    "def merge(left, right):\n",
    "    result = []\n",
    "    # make sure the left and right array is not empty\n",
    "    while len(left) > 0 and len(right) > 0:     \n",
    "        # do comparison, the smaller one add to the font of result\n",
    "        if left[0] <= right[0]:\n",
    "            result.append(left.pop(0))\n",
    "        else:\n",
    "            result.append(right.pop(0))\n",
    "    # if there still has values in the array(L/R), add them directly\n",
    "    result += left\n",
    "    result += right\n",
    "    return result\n",
    "\n",
    "\n",
    "arr=[1,2,6,8,5,10,7,22,3]\n",
    "print(arr)\n",
    "print(merge_sort(arr))\n"
   ]
  },
  {
   "cell_type": "code",
   "execution_count": null,
   "metadata": {},
   "outputs": [],
   "source": []
  }
 ],
 "metadata": {
  "kernelspec": {
   "display_name": "Python 3",
   "language": "python",
   "name": "python3"
  },
  "language_info": {
   "codemirror_mode": {
    "name": "ipython",
    "version": 3
   },
   "file_extension": ".py",
   "mimetype": "text/x-python",
   "name": "python",
   "nbconvert_exporter": "python",
   "pygments_lexer": "ipython3",
   "version": "3.7.4"
  }
 },
 "nbformat": 4,
 "nbformat_minor": 2
}
