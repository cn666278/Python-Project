{
 "cells": [
  {
   "cell_type": "code",
   "execution_count": 1,
   "metadata": {},
   "outputs": [
    {
     "name": "stdout",
     "output_type": "stream",
     "text": [
      "Hello\n"
     ]
    }
   ],
   "source": [
    "# Function\n",
    "def function():\n",
    "    print(\"Hello\")\n",
    "    \n",
    "function()"
   ]
  },
  {
   "cell_type": "code",
   "execution_count": 3,
   "metadata": {},
   "outputs": [
    {
     "name": "stdout",
     "output_type": "stream",
     "text": [
      "Hello John Snow,the king in the north!\n"
     ]
    }
   ],
   "source": [
    "# Pass value to function\n",
    "def function(name):\n",
    "    print(\"Hello \" + name.title() + \",the king in the north!\")\n",
    "\n",
    "function(\"John Snow\")"
   ]
  },
  {
   "cell_type": "code",
   "execution_count": 5,
   "metadata": {},
   "outputs": [
    {
     "name": "stdout",
     "output_type": "stream",
     "text": [
      "Dog\n",
      "Cat\n"
     ]
    }
   ],
   "source": [
    "# 默认值\n",
    "def func(animal_type = 'dog'):\n",
    "    print(animal_type.title())\n",
    "    \n",
    "func()\n",
    "func('cat')"
   ]
  },
  {
   "cell_type": "code",
   "execution_count": 16,
   "metadata": {},
   "outputs": [
    {
     "name": "stdout",
     "output_type": "stream",
     "text": [
      "John Snow\n",
      "{'first': 'John', 'last': 'Snow', 'age': 30}\n"
     ]
    }
   ],
   "source": [
    "# Return value\n",
    "def func(first_name, last_name):\n",
    "    full_name = first_name + ' ' + last_name\n",
    "    return full_name.title()\n",
    "\n",
    "returnValue = func('John','Snow')\n",
    "print(returnValue)\n",
    "\n",
    "# Return dictionary\n",
    "def function(first_name, last_name, age=''):\n",
    "    person ={\n",
    "        \"first\":first_name,\n",
    "        \"last\":last_name\n",
    "    } \n",
    "    if age:\n",
    "        person['age'] = age\n",
    "    return person\n",
    "\n",
    "return_value = function('John','Snow', age=30)\n",
    "print(return_value)"
   ]
  },
  {
   "cell_type": "code",
   "execution_count": null,
   "metadata": {
    "scrolled": false
   },
   "outputs": [
    {
     "name": "stdout",
     "output_type": "stream",
     "text": [
      "\n",
      "Please enter the name:\n",
      "(enter \"q\" to quit)\n"
     ]
    }
   ],
   "source": [
    "# Using while loop in function\n",
    "def get_formatted_name(first_name, last_name):\n",
    "    full_name = first_name + ' ' + last_name\n",
    "    return full_name.title()\n",
    "\n",
    "while True:\n",
    "    print('\\nPlease enter the name:\\n(enter \"q\" to quit)')\n",
    "    \n",
    "    f_name = input(\"First name: \")\n",
    "    if f_name == 'q':\n",
    "        break\n",
    "        \n",
    "    l_name = input(\"Last name: \")\n",
    "    if l_name == 'q':\n",
    "        break\n",
    "\n",
    "    formatted_name = get_formatted_name(f_name, l_name)\n",
    "    print(\"\\nHello, \" + formatted_name + \"!\")"
   ]
  },
  {
   "cell_type": "code",
   "execution_count": 9,
   "metadata": {
    "scrolled": true
   },
   "outputs": [
    {
     "name": "stdout",
     "output_type": "stream",
     "text": [
      "Printing model: Samsung Glass\n",
      "Printing model: Leica Camera\n",
      "Printing model: Iphone Case\n",
      "\n",
      "The following models have been printed:\n",
      "Samsung Glass\n",
      "Leica Camera\n",
      "Iphone Case\n"
     ]
    }
   ],
   "source": [
    "# Pass the list to function\n",
    "unprinted_designs = ['iphone case','leica camera','samsung glass']\n",
    "completed_models = []\n",
    "\n",
    "while unprinted_designs:\n",
    "    current_design = unprinted_designs.pop() # Last in First out(LIFO)\n",
    "    \n",
    "    print(\"Printing model: \" + current_design.title())\n",
    "    completed_models.append(current_design)\n",
    "\n",
    "print(\"\\nThe following models have been printed:\")\n",
    "for completed_model in completed_models:\n",
    "    print(completed_model.title())\n",
    "    \n",
    "    "
   ]
  },
  {
   "cell_type": "code",
   "execution_count": null,
   "metadata": {},
   "outputs": [],
   "source": []
  },
  {
   "cell_type": "code",
   "execution_count": 10,
   "metadata": {},
   "outputs": [
    {
     "name": "stdout",
     "output_type": "stream",
     "text": [
      "\n",
      "\n",
      "Printing model: Samsung Glass\n",
      "Printing model: Leica Camera\n",
      "Printing model: Iphone Case\n",
      "[]\n",
      "\n",
      "The following models have been printed:\n",
      "Samsung Glass\n",
      "Leica Camera\n",
      "Iphone Case\n",
      "\n",
      "\n",
      "Printing model: Samsung Glass\n",
      "Printing model: Leica Camera\n",
      "Printing model: Iphone Case\n",
      "['iphone case', 'leica camera', 'samsung glass']\n",
      "\n",
      "The following models have been printed:\n",
      "Samsung Glass\n",
      "Leica Camera\n",
      "Iphone Case\n"
     ]
    }
   ],
   "source": [
    "# Using function\n",
    "print(\"\\n\")\n",
    "def print_models(unprinted_designs, completed_models):\n",
    "    while unprinted_designs:\n",
    "        current_design = unprinted_designs.pop() # Last in First out(LIFO)\n",
    "        \n",
    "        print(\"Printing model: \" + current_design.title())\n",
    "        completed_models.append(current_design)\n",
    "        \n",
    "def show_completed_models(completed_models):\n",
    "    print(\"\\nThe following models have been printed:\")\n",
    "    for completed_model in completed_models:\n",
    "        print(completed_model.title())\n",
    "        \n",
    "unprinted_designs = ['iphone case','leica camera','samsung glass']\n",
    "completed_models = []\n",
    "\n",
    "print_models(unprinted_designs, completed_models)\n",
    "print(unprinted_designs)\n",
    "show_completed_models(completed_models)\n",
    "\n",
    "\n",
    "#-----------------------------------------------------------!!! Attention !!! --------------------------------------------------------\n",
    "# Using function(不改变原来的list: 创建副本)\n",
    "print(\"\\n\")\n",
    "def print_models(unprinted_designs, completed_models):\n",
    "    while unprinted_designs:\n",
    "        current_design = unprinted_designs.pop() # Last in First out(LIFO)\n",
    "        \n",
    "        print(\"Printing model: \" + current_design.title())\n",
    "        completed_models.append(current_design)\n",
    "        \n",
    "def show_completed_models(completed_models):\n",
    "    print(\"\\nThe following models have been printed:\")\n",
    "    for completed_model in completed_models:\n",
    "        print(completed_model.title())\n",
    "        \n",
    "unprinted_designs = ['iphone case','leica camera','samsung glass']\n",
    "completed_models = []\n",
    "\n",
    "print_models(unprinted_designs[:], completed_models) # [:] Creating backup\n",
    "print(unprinted_designs)\n",
    "show_completed_models(completed_models)"
   ]
  },
  {
   "cell_type": "code",
   "execution_count": 16,
   "metadata": {},
   "outputs": [
    {
     "name": "stdout",
     "output_type": "stream",
     "text": [
      "Making a Huawei phones need to have these following parts: \n",
      "- leica camera\n",
      "- jingdongfang screen\n",
      "- double audio\n",
      "- blueteeth 6.0\n",
      "Making a Xiaomi phones need to have these following parts: \n",
      "- samsung screen\n",
      "- double audio\n",
      "- blueteeth 5.0\n"
     ]
    }
   ],
   "source": [
    "# Passing any amount of values\n",
    "\n",
    "def make_phone(brand, *parts):\n",
    "    print(\"Making a \" + brand + \" phones need to have these following parts: \" )\n",
    "    for part in parts:\n",
    "        print(\"- \" + part)\n",
    "    \n",
    "make_phone('Huawei', 'leica camera','jingdongfang screen','double audio','blueteeth 6.0')\n",
    "make_phone(\"Xiaomi\", 'samsung screen','double audio','blueteeth 5.0')"
   ]
  },
  {
   "cell_type": "code",
   "execution_count": 18,
   "metadata": {},
   "outputs": [
    {
     "name": "stdout",
     "output_type": "stream",
     "text": [
      "{'first_name': 'John', 'last_name': 'Snow', 'location': 'Winterfell', 'job': 'The king of the North'}\n"
     ]
    }
   ],
   "source": [
    "# 使用任意数量的关键字实参\n",
    "\n",
    "def build_profile(first, last, **user_info): # **:创建字典user_info\n",
    "    profile = {}\n",
    "    profile['first_name'] = first\n",
    "    profile['last_name'] = last\n",
    "    for key, value in user_info.items(): # !!!\n",
    "        profile[key] = value\n",
    "    \n",
    "    return profile\n",
    "\n",
    "user_profile = build_profile('John', 'Snow',location='Winterfell',job='The king of the North')\n",
    "print(user_profile)"
   ]
  },
  {
   "cell_type": "code",
   "execution_count": 7,
   "metadata": {},
   "outputs": [
    {
     "name": "stdout",
     "output_type": "stream",
     "text": [
      "Making a Huawei phones need to have these following parts: \n",
      "- leica camera\n",
      "- jingdongfang screen\n",
      "- double audio\n",
      "- blueteeth 6.0\n",
      "Making a Xiaomi phones need to have these following parts: \n",
      "- samsung screen\n",
      "- double audio\n",
      "- blueteeth 5.0\n",
      "Making a Huawei phones need to have these following parts: \n",
      "- leica camera\n",
      "- jingdongfang screen\n",
      "- double audio\n",
      "- blueteeth 6.0\n",
      "Making a Xiaomi phones need to have these following parts: \n",
      "- samsung screen\n",
      "- double audio\n",
      "- blueteeth 5.0\n"
     ]
    }
   ],
   "source": [
    "# import module\n",
    "import phone\n",
    "phone.make_phone('Huawei', 'leica camera','jingdongfang screen','double audio','blueteeth 6.0')\n",
    "phone.make_phone(\"Xiaomi\", 'samsung screen','double audio','blueteeth 5.0')\n",
    "\n",
    "# import all the functions in module\n",
    "from phone import *\n",
    "phone.make_phone('Huawei', 'leica camera','jingdongfang screen','double audio','blueteeth 6.0')\n",
    "phone.make_phone(\"Xiaomi\", 'samsung screen','double audio','blueteeth 5.0')"
   ]
  },
  {
   "cell_type": "code",
   "execution_count": 6,
   "metadata": {},
   "outputs": [
    {
     "name": "stdout",
     "output_type": "stream",
     "text": [
      "Making a Huawei phones need to have these following parts: \n",
      "- leica camera\n",
      "- jingdongfang screen\n",
      "- double audio\n",
      "- blueteeth 6.0\n",
      "Making a Xiaomi phones need to have these following parts: \n",
      "- samsung screen\n",
      "- double audio\n",
      "- blueteeth 5.0\n",
      "\n",
      "Making a Huawei phones need to have these following parts: \n",
      "- leica camera\n",
      "- jingdongfang screen\n",
      "- double audio\n",
      "- blueteeth 6.0\n",
      "Making a Xiaomi phones need to have these following parts: \n",
      "- samsung screen\n",
      "- double audio\n",
      "- blueteeth 5.0\n",
      "\n",
      "Making a Huawei phones need to have these following parts: \n",
      "- leica camera\n",
      "- jingdongfang screen\n",
      "- double audio\n",
      "- blueteeth 6.0\n",
      "Making a Xiaomi phones need to have these following parts: \n",
      "- samsung screen\n",
      "- double audio\n",
      "- blueteeth 5.0\n"
     ]
    }
   ],
   "source": [
    "# import function in module\n",
    "from phone import make_phone\n",
    "make_phone('Huawei', 'leica camera','jingdongfang screen','double audio','blueteeth 6.0')\n",
    "make_phone(\"Xiaomi\", 'samsung screen','double audio','blueteeth 5.0')\n",
    "print()\n",
    "\n",
    "# 使用as给函数指定别名\n",
    "from phone import make_phone as mp\n",
    "mp('Huawei', 'leica camera','jingdongfang screen','double audio','blueteeth 6.0')\n",
    "mp(\"Xiaomi\", 'samsung screen','double audio','blueteeth 5.0')\n",
    "print()\n",
    "\n",
    "# 使用as给函数指定别名\n",
    "import phone as ph\n",
    "ph.make_phone('Huawei', 'leica camera','jingdongfang screen','double audio','blueteeth 6.0')\n",
    "ph.make_phone(\"Xiaomi\", 'samsung screen','double audio','blueteeth 5.0')\n",
    "print()"
   ]
  },
  {
   "cell_type": "code",
   "execution_count": null,
   "metadata": {},
   "outputs": [],
   "source": [
    "# 函数编写指南（Guide for writing function)\n",
    "# 给函数形参赋值时，等号两边不要用空格！！！\n",
    "def function_name(parameter_0,parameter_1=value):"
   ]
  }
 ],
 "metadata": {
  "kernelspec": {
   "display_name": "Python 3",
   "language": "python",
   "name": "python3"
  },
  "language_info": {
   "codemirror_mode": {
    "name": "ipython",
    "version": 3
   },
   "file_extension": ".py",
   "mimetype": "text/x-python",
   "name": "python",
   "nbconvert_exporter": "python",
   "pygments_lexer": "ipython3",
   "version": "3.7.4"
  }
 },
 "nbformat": 4,
 "nbformat_minor": 2
}
