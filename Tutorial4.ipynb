{
 "cells": [
  {
   "cell_type": "code",
   "execution_count": 10,
   "metadata": {},
   "outputs": [
    {
     "data": {
      "text/plain": [
       "'ABAD'"
      ]
     },
     "execution_count": 10,
     "metadata": {},
     "output_type": "execute_result"
    }
   ],
   "source": [
    "def longest_common_subsequence(X: str, Y: str):\n",
    "    # columns\n",
    "    index_x = len(X)+1  \n",
    "    # rows\n",
    "    index_y = len(Y)+1  \n",
    "    c = [[''] * index_y for _ in range(index_x)]\n",
    "\n",
    "    for i in range(index_x):\n",
    "        for j in range(index_y):\n",
    "            if i == 0 or j == 0:\n",
    "                c[i][j] = ''\n",
    "                continue\n",
    "            if X[i-1] == Y[j-1]:\n",
    "                c[i][j] = c[i-1][j-1] + X[i-1]\n",
    "            else:\n",
    "                if len(c[i-1][j]) > len(c[i][j-1]):\n",
    "                    c[i][j] = c[i-1][j]\n",
    "                else:\n",
    "                    c[i][j] = c[i][j-1]\n",
    "\n",
    "    return c[index_x-1][index_y-1]\n",
    "\n",
    "longest_common_subsequence(\"ABAZDC\",\"BACBAD\")"
   ]
  },
  {
   "cell_type": "code",
   "execution_count": 17,
   "metadata": {},
   "outputs": [
    {
     "name": "stdout",
     "output_type": "stream",
     "text": [
      "4\n"
     ]
    }
   ],
   "source": [
    "def dpMakeChange(coinValueList, change, minCoins):\n",
    "    for cents in range(change+1):\n",
    "        # 一开始以一元钱为最起始单位，比如七元钱要七个一元，五元钱要五个一元\n",
    "        coincount = cents\n",
    "        # 然后再小于我们所需金额的零钱里寻找\n",
    "        # 比如我们有1 3 5的面值，对4找零，则列表里面是[1, 3]\n",
    "        for j in [c for c in coinValueList if c <= cents]:\n",
    "            # 如果以前的面值比用一分钱的数量要少\n",
    "            # 则赋值\n",
    "            \"\"\"\n",
    "            比如我们4元钱可以用1元和3元来找\n",
    "            我们进入循环的时候，默认coincount是都用一元钱，也就是4元钱需要4个一元钱\n",
    "            接着我们再找，列表里有个3，因此我们会想能不能用3元去代替，也就是用3元钱所需找零量再加个1\n",
    "            然后进入一个if语句，判断是否比之前coincount小，如果是，则把值记录到minCoins里面\n",
    "            \n",
    "            \"\"\"\n",
    "            if minCoins[cents-j] + 1 < coincount:\n",
    "                coincount = minCoins[cents-j] + 1\n",
    "\n",
    "            minCoins[cents] = coincount\n",
    "\n",
    "    return minCoins[change]\n",
    "\n",
    "\n",
    "print(dpMakeChange([1,2,5,10,25,50], 86, [0]*100))\n"
   ]
  },
  {
   "cell_type": "code",
   "execution_count": 1,
   "metadata": {},
   "outputs": [
    {
     "name": "stdout",
     "output_type": "stream",
     "text": [
      "4\n"
     ]
    }
   ],
   "source": [
    "def dpMakeChange(coinValueList, change, minCoins):\n",
    "    for cents in range(change+1):\n",
    "        coincount = cents\n",
    "        for j in [c for c in coinValueList if c <= cents]:\n",
    "            if minCoins[cents-j] + 1 < coincount:\n",
    "                coincount = minCoins[cents-j] + 1\n",
    "\n",
    "            minCoins[cents] = coincount\n",
    "\n",
    "    return minCoins[change]\n",
    "\n",
    "\n",
    "print(dpMakeChange([1,2,5,10,25,50], 86, [0]*100))\n"
   ]
  },
  {
   "cell_type": "code",
   "execution_count": null,
   "metadata": {},
   "outputs": [],
   "source": []
  }
 ],
 "metadata": {
  "kernelspec": {
   "display_name": "Python 3",
   "language": "python",
   "name": "python3"
  },
  "language_info": {
   "codemirror_mode": {
    "name": "ipython",
    "version": 3
   },
   "file_extension": ".py",
   "mimetype": "text/x-python",
   "name": "python",
   "nbconvert_exporter": "python",
   "pygments_lexer": "ipython3",
   "version": "3.7.4"
  }
 },
 "nbformat": 4,
 "nbformat_minor": 2
}
