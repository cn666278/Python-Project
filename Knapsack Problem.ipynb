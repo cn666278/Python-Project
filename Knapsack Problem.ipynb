{
 "cells": [
  {
   "cell_type": "code",
   "execution_count": 1,
   "metadata": {},
   "outputs": [],
   "source": [
    "# Dynamic Programming\n",
    "\n",
    "# Pseudocode for Knapsack Problem\n",
    "def Knapsack(i,j):\n",
    "    if c < 0:\n",
    "        return -1\n",
    "    if i <= 0:\n",
    "        return 0\n",
    "    if V[i,j] != NULL:\n",
    "        return V[i,j]\n",
    "    \n",
    "    V1 = Knapsack(i-1, j-v[i])\n",
    "    V2 = Knapsack(i-1,j)\n",
    "    V[i,j] = max(V1,V2) \n",
    "    \n",
    "    return V[i,j]"
   ]
  },
  {
   "cell_type": "code",
   "execution_count": null,
   "metadata": {},
   "outputs": [],
   "source": []
  }
 ],
 "metadata": {
  "kernelspec": {
   "display_name": "Python 3",
   "language": "python",
   "name": "python3"
  },
  "language_info": {
   "codemirror_mode": {
    "name": "ipython",
    "version": 3
   },
   "file_extension": ".py",
   "mimetype": "text/x-python",
   "name": "python",
   "nbconvert_exporter": "python",
   "pygments_lexer": "ipython3",
   "version": "3.7.4"
  }
 },
 "nbformat": 4,
 "nbformat_minor": 2
}
