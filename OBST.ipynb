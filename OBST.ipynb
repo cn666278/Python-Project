{
 "cells": [
  {
   "cell_type": "code",
   "execution_count": 1,
   "metadata": {},
   "outputs": [
    {
     "name": "stdout",
     "output_type": "stream",
     "text": [
      "Enter the number of elements in array:1\n",
      "Array element 0 1\n",
      "Enter the key value to search:1\n",
      "Element found at location:  0\n"
     ]
    }
   ],
   "source": [
    "def binary_search(S, low, high, key):\n",
    "    if high >= low:\n",
    "        # \"//\" means floor function\n",
    "        mid = (low + high) // 2\n",
    "        \n",
    "        if S[mid] == key:\n",
    "            return mid\n",
    "        elif S[mid] > key:\n",
    "            return binary_search(S, low, mid - 1, key)\n",
    "        else:\n",
    "            return binary_search(S, mid + 1, high, key)\n",
    "    else:\n",
    "        return -1\n",
    "S = []\n",
    "n = int(input('Enter the number of elements in array:'))\n",
    "for i in range(0,n):\n",
    "    num_of_element = int(input('Array element %d ' %i))\n",
    "    \n",
    "    S.append(num_of_element)\n",
    "    \n",
    "key = int(input('Enter the key value to search:'))\n",
    "\n",
    "output = binary_search(S, 0, len(S) - 1, key)\n",
    "\n",
    "if output != -1:\n",
    "    print('Element found at location: ', str(output))\n",
    "else:\n",
    "    print('Element is not found')"
   ]
  },
  {
   "cell_type": "code",
   "execution_count": 3,
   "metadata": {},
   "outputs": [
    {
     "name": "stdout",
     "output_type": "stream",
     "text": [
      "10\n",
      "5\n",
      "12\n"
     ]
    }
   ],
   "source": [
    "class Node:\n",
    "    def __init__(self, key):\n",
    "        self.left = None\n",
    "        self.right = None\n",
    "        self.key = key\n",
    "tree = Node(10)\n",
    "print(tree.key)\n",
    "\n",
    "tree.left = Node(5)\n",
    "tree.right = Node(12)\n",
    "print(tree.left.key)\n",
    "print(tree.right.key)"
   ]
  },
  {
   "cell_type": "code",
   "execution_count": 6,
   "metadata": {},
   "outputs": [
    {
     "name": "stdout",
     "output_type": "stream",
     "text": [
      "[1, 3, 5, 78, 21, 45]\n",
      "[1, 3, 4, 78, 21, 45, 5]\n",
      "1\n",
      "[3, 5, 4, 78, 21, 45]\n"
     ]
    }
   ],
   "source": [
    "import heapq\n",
    "\n",
    "H = [21,1,45,78,3,5]\n",
    "heapq.heapify(H) # make heap\n",
    "print(H)\n",
    "\n",
    "heapq.heappush(H, 4) # insert a key\n",
    "print(H)\n",
    "\n",
    "a = heapq.heappop(H) # remove a key\n",
    "print(a)\n",
    "print(H)"
   ]
  },
  {
   "cell_type": "code",
   "execution_count": 20,
   "metadata": {},
   "outputs": [
    {
     "name": "stdout",
     "output_type": "stream",
     "text": [
      "0  0  0  0  0  0.1  \n",
      "0.05  0.45000000000000007  0.9  1.25  1.75  2.75  \n",
      "0  0.1  0.4  0.7  1.2  2.0  \n",
      "0  0  0.05  0.25  0.6  1.2999999999999998  \n",
      "0  0  0  0.05  0.30000000000000004  0.9  \n",
      "0  0  0  0  0.05  0.5  \n",
      "0  0  0  0  0  0.1  \n",
      "0  0  0  0  0  0  \n",
      "0  1  1  2  2  2  \n",
      "0  0  2  2  2  4  \n",
      "0  0  0  3  4  5  \n",
      "0  0  0  0  4  5  \n",
      "0  0  0  0  0  5  \n"
     ]
    }
   ],
   "source": [
    "def optimal_bst(p,q,n):\n",
    "    e=[[0 for j in range(n+1)]for i in range(n+2)]\n",
    "    w=[[0 for j in range(n+1)]for i in range(n+2)]\n",
    "    root=[[0 for j in range(n+1)]for i in range(n+1)]\n",
    "    for i in range(n+2):\n",
    "        e[i][i-1]=q[i-1]\n",
    "        w[i][i-1]=q[i-1]\n",
    "    for l in range(1,n+1):\n",
    "        for i in range(1,n-l+2):\n",
    "            j=i+l-1\n",
    "            e[i][j]=float(\"inf\")\n",
    "            w[i][j]=w[i][j-1]+p[j]+q[j]\n",
    "            for r in range(i,j+1):\n",
    "                t=e[i][r-1]+e[r+1][j]+w[i][j]\n",
    "                if t<e[i][j]:\n",
    "                    e[i][j]=t\n",
    "                    root[i][j]=r\n",
    "    return e,root\n",
    " \n",
    "if __name__==\"__main__\":\n",
    "    p=[0,0.15,0.1,0.05,0.1,0.2]\n",
    "    q=[0.05,0.1,0.05,0.05,0.05,0.1]\n",
    "    e,root=optimal_bst(p,q,5)\n",
    "    for i in range(5+2):\n",
    "        for j in range(5+1):\n",
    "            print(e[i][j],\" \",end='')\n",
    "        print()\n",
    "    for i in range(5+1):\n",
    "        for j in range(5+1):\n",
    "            print(root[i][j],\" \",end='')\n",
    "        print()\n"
   ]
  },
  {
   "cell_type": "code",
   "execution_count": 3,
   "metadata": {},
   "outputs": [
    {
     "ename": "NameError",
     "evalue": "name 'A' is not defined",
     "output_type": "error",
     "traceback": [
      "\u001b[1;31m---------------------------------------------------------------------------\u001b[0m",
      "\u001b[1;31mNameError\u001b[0m                                 Traceback (most recent call last)",
      "\u001b[1;32m<ipython-input-3-5a0b4dd6e5ac>\u001b[0m in \u001b[0;36m<module>\u001b[1;34m\u001b[0m\n\u001b[0;32m     38\u001b[0m \u001b[1;33m\u001b[0m\u001b[0m\n\u001b[0;32m     39\u001b[0m \u001b[0mq\u001b[0m\u001b[1;33m=\u001b[0m\u001b[1;33m[\u001b[0m\u001b[1;36m0.05\u001b[0m\u001b[1;33m,\u001b[0m\u001b[1;36m0.1\u001b[0m\u001b[1;33m,\u001b[0m\u001b[1;36m0.05\u001b[0m\u001b[1;33m,\u001b[0m\u001b[1;36m0.05\u001b[0m\u001b[1;33m,\u001b[0m\u001b[1;36m0.05\u001b[0m\u001b[1;33m,\u001b[0m\u001b[1;36m0.1\u001b[0m\u001b[1;33m]\u001b[0m\u001b[1;33m\u001b[0m\u001b[1;33m\u001b[0m\u001b[0m\n\u001b[1;32m---> 40\u001b[1;33m \u001b[0mopt_search_tree\u001b[0m\u001b[1;33m(\u001b[0m\u001b[1;36m10\u001b[0m\u001b[1;33m,\u001b[0m\u001b[0mq\u001b[0m\u001b[1;33m)\u001b[0m\u001b[1;33m\u001b[0m\u001b[1;33m\u001b[0m\u001b[0m\n\u001b[0m",
      "\u001b[1;32m<ipython-input-3-5a0b4dd6e5ac>\u001b[0m in \u001b[0;36mopt_search_tree\u001b[1;34m(n, p)\u001b[0m\n\u001b[0;32m      1\u001b[0m \u001b[1;32mdef\u001b[0m \u001b[0mopt_search_tree\u001b[0m \u001b[1;33m(\u001b[0m\u001b[0mn\u001b[0m\u001b[1;33m,\u001b[0m \u001b[0mp\u001b[0m\u001b[1;33m)\u001b[0m\u001b[1;33m:\u001b[0m\u001b[1;33m\u001b[0m\u001b[1;33m\u001b[0m\u001b[0m\n\u001b[0;32m      2\u001b[0m     \u001b[1;32mfor\u001b[0m \u001b[0mi\u001b[0m \u001b[1;32min\u001b[0m \u001b[0mrange\u001b[0m\u001b[1;33m(\u001b[0m\u001b[1;36m1\u001b[0m\u001b[1;33m,\u001b[0m\u001b[0mn\u001b[0m\u001b[1;33m)\u001b[0m\u001b[1;33m:\u001b[0m\u001b[1;33m\u001b[0m\u001b[1;33m\u001b[0m\u001b[0m\n\u001b[1;32m----> 3\u001b[1;33m         \u001b[0mA\u001b[0m\u001b[1;33m[\u001b[0m\u001b[0mi\u001b[0m\u001b[1;33m]\u001b[0m\u001b[1;33m[\u001b[0m\u001b[0mi\u001b[0m\u001b[1;33m-\u001b[0m\u001b[1;36m1\u001b[0m\u001b[1;33m]\u001b[0m \u001b[1;33m=\u001b[0m \u001b[1;36m0\u001b[0m\u001b[1;33m\u001b[0m\u001b[1;33m\u001b[0m\u001b[0m\n\u001b[0m\u001b[0;32m      4\u001b[0m         \u001b[0mA\u001b[0m\u001b[1;33m[\u001b[0m\u001b[0mi\u001b[0m\u001b[1;33m]\u001b[0m\u001b[1;33m[\u001b[0m\u001b[0mi\u001b[0m\u001b[1;33m]\u001b[0m \u001b[1;33m=\u001b[0m \u001b[0mp\u001b[0m\u001b[1;33m[\u001b[0m\u001b[0mi\u001b[0m\u001b[1;33m]\u001b[0m\u001b[1;33m\u001b[0m\u001b[1;33m\u001b[0m\u001b[0m\n\u001b[0;32m      5\u001b[0m         \u001b[0mP\u001b[0m\u001b[1;33m[\u001b[0m\u001b[0mi\u001b[0m\u001b[1;33m]\u001b[0m\u001b[1;33m[\u001b[0m\u001b[0mi\u001b[0m\u001b[1;33m]\u001b[0m \u001b[1;33m=\u001b[0m \u001b[0mi\u001b[0m\u001b[1;33m\u001b[0m\u001b[1;33m\u001b[0m\u001b[0m\n",
      "\u001b[1;31mNameError\u001b[0m: name 'A' is not defined"
     ]
    }
   ],
   "source": [
    "def opt_search_tree (n, p):\n",
    "    for i in range(1,n):\n",
    "        A[i][i-1] = 0\n",
    "        A[i][i] = p[i]\n",
    "        P[i][i] = i\n",
    "        P[i][i-1] = 0\n",
    "    \n",
    "    A[n + 1][n] = 0\n",
    "    P[n + 1][n] = 0\n",
    "    for diagonal in range(1,n - 1):\n",
    "        for i in range(1,n - diagonal):\n",
    "            j = i + diagonal\n",
    "            for num in range(i,j): \n",
    "                total +=  p[num]\n",
    "            A[i][j] = min(A[i][k - 1] + A[k + 1][j]) + total\n",
    "            total = 0\n",
    "            P[i][j] = k\n",
    "    minavg = A[1][n]\n",
    "\n",
    "def construct_opt_search_tree(i,j):\n",
    "    k = P[i][j]\n",
    "    if k == 0:\n",
    "        return NULL\n",
    "    else:\n",
    "        p = Node(10)\n",
    "        p.key = Key[k]\n",
    "        p.left = tree(i, k -1)\n",
    "        p.right = tree(k + 1, j)\n",
    "        return p\n",
    "    \n",
    "class Node:\n",
    "    def __init__(self, key):\n",
    "        self.key = key\n",
    "        self.left = None\n",
    "        self.right = None\n",
    "        \n",
    "# OBST = Node(10)\n",
    "\n",
    "q=[0.05,0.1,0.05,0.05,0.05,0.1]\n",
    "opt_search_tree(10,q)"
   ]
  },
  {
   "cell_type": "code",
   "execution_count": 26,
   "metadata": {},
   "outputs": [
    {
     "name": "stdout",
     "output_type": "stream",
     "text": [
      "a ：0\n",
      "f ：1000\n",
      "e ：1001\n",
      "e ：101\n",
      "c ：110\n",
      "b ：111\n"
     ]
    }
   ],
   "source": [
    "class Node():\n",
    "    def __init__(self,name=None,value=None):\n",
    "        self.name = name \n",
    "        self.value = value\n",
    "        self.right = None\n",
    "        self.left = None\n",
    "        \n",
    "class HuffmanTree():\n",
    "    def __init__(self,arr):\n",
    "        self.nodes = [Node(values[0],values[1]) for values in arr] \n",
    "        while len(self.nodes)!= 1: \n",
    "            self.nodes.sort(key =lambda node:node.value, reverse= True) \n",
    "            \n",
    "            p = Node(value = (self.nodes[-1].value + self.nodes[-2].value)) \n",
    "            p.left = self.nodes.pop(-1)\n",
    "            p.right = self.nodes.pop(-1)\n",
    "            self.nodes.append(p)\n",
    "        self.root = self.nodes[0]\n",
    "\n",
    "        self.Code = list(range(10)) \n",
    "\n",
    "\n",
    "    def HuffmanCode(self,tree,length):\n",
    "        node = tree\n",
    "        if (not node):\n",
    "            return \n",
    "        elif node.name:\n",
    "            result = str(node.name)+\" ：\"\n",
    "            for i in range(length):\n",
    "                result += str(self.Code[i])\n",
    "            print(result)\n",
    "            return\n",
    "        self.Code[length] = 0\n",
    "        self.HuffmanCode(tree.left,length +1)\n",
    "        self.Code[length] = 1\n",
    "        self.HuffmanCode(tree.right,length+1)\n",
    "    def GenCode(self):\n",
    "        self.HuffmanCode(self.root,0)\n",
    "if __name__=='__main__':\n",
    "    arr = [('a',15),('b',8),('c',6),('e',5),('e',3),('f',1)]\n",
    "    tree=HuffmanTree(arr)\n",
    "    tree.GenCode()\n",
    "\n"
   ]
  },
  {
   "cell_type": "code",
   "execution_count": null,
   "metadata": {},
   "outputs": [],
   "source": []
  }
 ],
 "metadata": {
  "kernelspec": {
   "display_name": "Python 3",
   "language": "python",
   "name": "python3"
  },
  "language_info": {
   "codemirror_mode": {
    "name": "ipython",
    "version": 3
   },
   "file_extension": ".py",
   "mimetype": "text/x-python",
   "name": "python",
   "nbconvert_exporter": "python",
   "pygments_lexer": "ipython3",
   "version": "3.7.4"
  }
 },
 "nbformat": 4,
 "nbformat_minor": 2
}
