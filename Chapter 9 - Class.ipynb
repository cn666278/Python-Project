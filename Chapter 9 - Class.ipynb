{
 "cells": [
  {
   "cell_type": "code",
   "execution_count": 4,
   "metadata": {},
   "outputs": [
    {
     "name": "stdout",
     "output_type": "stream",
     "text": [
      "My dog name is Wangcai.\n",
      "My dog is 6 years old.\n"
     ]
    }
   ],
   "source": [
    "class Dog():\n",
    "    def __init__(self, name, age):\n",
    "        self.name = name;\n",
    "        self.age = age\n",
    "\n",
    "    def sit(self):\n",
    "        print(self.name.title() + \" in now sitting.\")\n",
    "\n",
    "    def rolling(self):\n",
    "        print(self.name.title() + \" rolled over!\")\n",
    "\n",
    "my_dog = Dog('wangcai',6)\n",
    "print(\"My dog name is \" + my_dog.name.title() + \".\")\n",
    "print(\"My dog is \" + str(my_dog.age) + \" years old.\")\n",
    "# invoke method in class\n",
    "my_dog.sit()\n",
    "my_dog.rolling()\n",
    "\n",
    "print(\"\\n\")\n",
    "\n",
    "# Declare another class sample\n",
    "your_dog = Dog('goudan',3)\n",
    "print(\"Your dog name is \" + your_dog.name.title() + \".\")\n",
    "print(\"Your dog is \" + str(your_dog.age) + \" years old.\")\n",
    "your_dog.sit()\n",
    "your_dog.rolling()"
   ]
  },
  {
   "cell_type": "code",
   "execution_count": 1,
   "metadata": {},
   "outputs": [
    {
     "name": "stdout",
     "output_type": "stream",
     "text": [
      "My new car is : 2021 Bmw I8\n",
      "This car has 0 miles on it.\n",
      "This car has 10000 miles on it.\n"
     ]
    }
   ],
   "source": [
    "#  a new class\n",
    "class Car():\n",
    "    def __init__(self, make, model, year):\n",
    "        self.make = make\n",
    "        self.model = model\n",
    "        self.year = year\n",
    "        self.odometer = 0\n",
    "\n",
    "    def get_descriptive_name(self):\n",
    "        long_name = str(self.year) + ' ' + self.make + \" \" + self.model\n",
    "        return long_name.title()\n",
    "\n",
    "    def read_odometer(self):\n",
    "        print(\"This car has \" + str(self.odometer) + \" miles on it.\")\n",
    "\n",
    "    def update_odometer(self, mileage):\n",
    "        if mileage >= self.odometer:\n",
    "            self.odometer = mileage\n",
    "        else:\n",
    "            print(\"You can not roll back an odometer\")\n",
    "\n",
    "\n",
    "my_new_car = Car('BMW', 'I8', 2021)\n",
    "print(\"My new car is : \" + my_new_car.get_descriptive_name())\n",
    "my_new_car.read_odometer()\n",
    "my_new_car.update_odometer(10000)\n",
    "my_new_car.read_odometer()"
   ]
  },
  {
   "cell_type": "code",
   "execution_count": 7,
   "metadata": {},
   "outputs": [
    {
     "name": "stdout",
     "output_type": "stream",
     "text": [
      "2021 Tesla Model S\n",
      "This car has a 70-kWh battery.\n",
      "This car has a 70-kWh battery.\n",
      "This car can go approximately 240 miles on a full charge.\n"
     ]
    }
   ],
   "source": [
    "# Inheritance\n",
    "\n",
    "# Super calss\n",
    "class Car():\n",
    "    def __init__(self, make, model, year):\n",
    "        self.make = make\n",
    "        self.model = model\n",
    "        self.year = year\n",
    "        self.odometer = 0\n",
    "\n",
    "    def get_descriptive_name(self):\n",
    "        long_name = str(self.year) + ' ' + self.make + \" \" + self.model\n",
    "        return long_name.title()\n",
    "\n",
    "    def read_odometer(self):\n",
    "        print(\"This car has \" + str(self.odometer) + \" miles on it.\")\n",
    "\n",
    "    def update_odometer(self, mileage):\n",
    "        if mileage >= self.odometer:\n",
    "            self.odometer = mileage\n",
    "        else:\n",
    "            print(\"You can not roll back an odometer\")\n",
    "            \n",
    "    def fill_gas_tank(self):\n",
    "        print(\"Nothing\")\n",
    "            \n",
    "# Children class\n",
    "class ElectricCar(Car):\n",
    "    def __init__(self, make, model, year):\n",
    "        super().__init__(make, model, year)\n",
    "        self.battery_size = 70\n",
    "        self.battery = Battery()\n",
    "\n",
    "    def describe_battery(self):\n",
    "        print('This car has a ' + str(self.battery_size) + \"-kWh battery.\")\n",
    "\n",
    "class Battery():\n",
    "    def __init__(self, battery_size=70):\n",
    "        self.battery_size = battery_size\n",
    "\n",
    "    def describe_battery(self):\n",
    "        print(\"This car has a \" + str(self.battery_size) + \"-kWh battery.\")\n",
    "\n",
    "    def get_range(self):\n",
    "        if self.battery_size == 70:\n",
    "            range = 240\n",
    "        elif self.battery_size == 85:\n",
    "            range = 270\n",
    "\n",
    "        message = \"This car can go approximately \" + str(range)\n",
    "        message += \" miles on a full charge.\"\n",
    "        print(message)\n",
    "\n",
    "my_tesla = ElectricCar('tesla', 'model s', 2021)\n",
    "print(my_tesla.get_descriptive_name())\n",
    "\n",
    "my_tesla.describe_battery()\n",
    "my_tesla.battery.describe_battery()\n",
    "my_tesla.battery.get_range()"
   ]
  },
  {
   "cell_type": "code",
   "execution_count": 8,
   "metadata": {},
   "outputs": [
    {
     "name": "stdout",
     "output_type": "stream",
     "text": [
      "John's favourite language is Python.\n",
      "Alaska's favourite language is C.\n",
      "Sam's favourite language is C++.\n",
      "Queen's favourite language is Java.\n"
     ]
    }
   ],
   "source": [
    "# Python Standard Library\n",
    "from collections import OrderedDict\n",
    "\n",
    "favorite_languages = OrderedDict() # 创建一个空的有序字典\n",
    "\n",
    "favorite_languages['John'] = 'python'\n",
    "favorite_languages['Alaska'] = 'c'\n",
    "favorite_languages['Sam'] = 'C++'\n",
    "favorite_languages['Queen'] = 'java'\n",
    "\n",
    "for name, language in favorite_languages.items():\n",
    "    print(name.title() + \"'s favourite language is \" + language.title() + \".\")"
   ]
  },
  {
   "cell_type": "code",
   "execution_count": null,
   "metadata": {},
   "outputs": [],
   "source": []
  }
 ],
 "metadata": {
  "kernelspec": {
   "display_name": "Python 3",
   "language": "python",
   "name": "python3"
  },
  "language_info": {
   "codemirror_mode": {
    "name": "ipython",
    "version": 3
   },
   "file_extension": ".py",
   "mimetype": "text/x-python",
   "name": "python",
   "nbconvert_exporter": "python",
   "pygments_lexer": "ipython3",
   "version": "3.7.4"
  }
 },
 "nbformat": 4,
 "nbformat_minor": 2
}
