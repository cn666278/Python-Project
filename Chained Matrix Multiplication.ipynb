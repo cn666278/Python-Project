{
 "cells": [
  {
   "cell_type": "code",
   "execution_count": 1,
   "metadata": {},
   "outputs": [
    {
     "name": "stdout",
     "output_type": "stream",
     "text": [
      "\n",
      "The optimal matrix order is:\n",
      "((A1(A2(A3(A4A5))))A6)\n",
      "\n",
      "The optimal Matrix multiplication is:286\n",
      "\n",
      "Matrix M is:\n",
      "[0\t42\t168\t258\t270\t286\t]\n",
      "\n",
      "[0\t0\t189\t324\t258\t282\t]\n",
      "\n",
      "[0\t0\t0\t315\t216\t272\t]\n",
      "\n",
      "[0\t0\t0\t0\t90\t162\t]\n",
      "\n",
      "[0\t0\t0\t0\t0\t40\t]\n",
      "\n",
      "[0\t0\t0\t0\t0\t0\t]\n",
      "\n"
     ]
    }
   ],
   "source": [
    "# Chained Matrix Multiplication\n",
    "\n",
    "def chained_mat_mult(n, d):\n",
    "    # 初始化,矩阵长度为n\n",
    "    M = [[0 for i in range(n)] for j in range(n)]\n",
    "    P = [[0 for i in range(n)] for j in range(n)]\n",
    "\n",
    "    # 矩阵起点为0，但我们只利用起点1\n",
    "    # for i in range(1, n+1):\n",
    "    #     M[i][i] = 0\n",
    "\n",
    "    # range of diagonal: (1, n-1)\n",
    "    for diagonal in range(1, n):\n",
    "        # i in range(1, n-d-1)  !!! 矩阵长度为n，所以为(1，n-1)\n",
    "        for i in range(1, n-diagonal):\n",
    "            j = i + diagonal\n",
    "\n",
    "            # i <= k <= j-1\n",
    "            for k in range(i, j):\n",
    "                # k == i means the initial value of each diagonal\n",
    "                if k == i:\n",
    "                    M[i][j] = M[i][k] + M[k+1][j] + d[i-1] * d[k] * d[j]\n",
    "                    P[i][j] = k\n",
    "\n",
    "                minM = M[i][k] + M[k+1][j] + d[i-1] * d[k] * d[j]\n",
    "                if minM < M[i][j]:\n",
    "                    M[i][j] = minM\n",
    "                    P[i][j] = k   # record the order of matrix multiplication\n",
    "\n",
    "    return M, P\n",
    "\n",
    "def order(P, i, j):\n",
    "    if i == j:\n",
    "        print('A' + str(i), end='')\n",
    "    else:\n",
    "        k = P[i][j]\n",
    "        print('(', end='')\n",
    "        order(P, i, k)\n",
    "        order(P, k+1, j)\n",
    "        print(')', end='')\n",
    "\n",
    "\n",
    "# d = [3, 5, 6, 7, 4, 8, 9]\n",
    "d = [2, 3, 7, 9, 5 ,2 ,4]\n",
    "\n",
    "M, P = chained_mat_mult(len(d), d)\n",
    "print(\"\\nThe optimal matrix order is:\")\n",
    "order(P, 1, len(d)-1)   # max = n-1(started from 1)\n",
    "print(\"\\n\\nThe optimal Matrix multiplication is:\" + str(M[1][len(d)-1]))\n",
    "\n",
    "print(\"\\nMatrix M is:\")\n",
    "# matrix column 0 is not used\n",
    "for i in range(1, len(d)):\n",
    "    print(\"[\", end='')\n",
    "    for j in range(1, len(d)):\n",
    "        print(str(M[i][j]) + '\\t', end='')\n",
    "    print(\"]\\n\")"
   ]
  },
  {
   "cell_type": "code",
   "execution_count": null,
   "metadata": {},
   "outputs": [],
   "source": []
  }
 ],
 "metadata": {
  "kernelspec": {
   "display_name": "Python 3",
   "language": "python",
   "name": "python3"
  },
  "language_info": {
   "codemirror_mode": {
    "name": "ipython",
    "version": 3
   },
   "file_extension": ".py",
   "mimetype": "text/x-python",
   "name": "python",
   "nbconvert_exporter": "python",
   "pygments_lexer": "ipython3",
   "version": "3.7.4"
  }
 },
 "nbformat": 4,
 "nbformat_minor": 2
}
