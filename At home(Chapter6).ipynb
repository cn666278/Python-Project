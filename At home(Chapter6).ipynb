{
 "cells": [
  {
   "cell_type": "code",
   "execution_count": 2,
   "metadata": {},
   "outputs": [
    {
     "name": "stdout",
     "output_type": "stream",
     "text": [
      "red\n",
      "5\n",
      "You just got 5 points!\n",
      "{'color': 'red', 'points': '5', 'x_position': 0, 'y_position': 250}\n",
      "{'color': 'green', 'points': 5}\n",
      "The alien is now red.\n",
      "The alien is now yellow.\n"
     ]
    }
   ],
   "source": [
    "# Chapter 6: Dictionary\n",
    "alien_0 = {'color':'red','points':'5'}\n",
    "print(alien_0['color'])\n",
    "print(alien_0['points'])\n",
    "new_points=alien_0[\"points\"]\n",
    "print(\"You just got \" + str(new_points) + \" points!\")\n",
    "\n",
    "# Add some new keys and values.\n",
    "alien_0['x_position'] = 0\n",
    "alien_0['y_position'] = 250\n",
    "print(alien_0) # Print all informations in the dictionary.\n",
    "\n",
    "# Start from an empty dictionary.\n",
    "alien_0 = {}\n",
    "alien_0['color'] = 'green'\n",
    "alien_0['points'] = 5\n",
    "print(alien_0)\n",
    "\n",
    "# Edit your value from dictionary.\n",
    "alien_0 = {'color':'red'} # Redifined \n",
    "print(\"The alien is now \" + alien_0['color'] + \".\")\n",
    "alien_0['color'] = 'yellow'\n",
    "print(\"The alien is now \" + alien_0['color'] + \".\")"
   ]
  },
  {
   "cell_type": "code",
   "execution_count": 3,
   "metadata": {},
   "outputs": [
    {
     "name": "stdout",
     "output_type": "stream",
     "text": [
      "{'color': 'red'}\n"
     ]
    }
   ],
   "source": [
    "# Deleting the value in dictionary\n",
    "alien_0 = {'color':'red','points':'5'}\n",
    "del  alien_0['points']\n",
    "print(alien_0)"
   ]
  },
  {
   "cell_type": "code",
   "execution_count": 18,
   "metadata": {},
   "outputs": [
    {
     "name": "stdout",
     "output_type": "stream",
     "text": [
      "John snow's favorite laguage is: C++.\n",
      "\n",
      "The names in dictionary:\n",
      "Cerci\n",
      "Sam\n",
      "John Snow\n",
      "Imp\n",
      "\n",
      "The values in dictionary:\n",
      "Python\n",
      "C Language\n",
      "C++\n",
      "Java\n",
      "\n",
      "The items in dictionary:\n",
      "The Cerci's favorite laguage is: Python\n",
      "The Sam's favorite laguage is: C Language\n",
      "The John Snow's favorite laguage is: C++\n",
      "The Imp's favorite laguage is: Java\n"
     ]
    }
   ],
   "source": [
    "# 由相似对象组成的字典\n",
    "favorite_languages = {\n",
    "    'Cerci': 'python',\n",
    "    'Sam': 'c language',\n",
    "    'John snow': 'c++',\n",
    "    'Imp': 'java',\n",
    "}\n",
    "print(\"John snow's favorite laguage is: \" + favorite_languages['John snow'].title() + \".\")\n",
    "\n",
    "print(\"\\nThe names in dictionary:\")\n",
    "# keys\n",
    "for name in favorite_languages.keys():\n",
    "    print(name.title())\n",
    "\n",
    "print(\"\\nThe values in dictionary:\")\n",
    "# values\n",
    "for value in favorite_languages.values():\n",
    "    print(value.title())\n",
    "    \n",
    "print(\"\\nThe items in dictionary:\")\n",
    "# items\n",
    "for name,language in favorite_languages.items():\n",
    "    print(\"The \" + name.title() + \"'s favorite laguage is: \" + language.title())"
   ]
  },
  {
   "cell_type": "code",
   "execution_count": 2,
   "metadata": {
    "scrolled": true
   },
   "outputs": [
    {
     "name": "stdout",
     "output_type": "stream",
     "text": [
      "Yes, John snow is a king.\n",
      "Cerci,thank you for your attendance.\n",
      "Imp,thank you for your attendance.\n",
      "John Snow,thank you for your attendance.\n",
      "Sam,thank you for your attendance.\n"
     ]
    }
   ],
   "source": [
    "favorite_languages = {\n",
    "    'Cerci': 'python',\n",
    "    'Sam': 'c language',\n",
    "    'John snow': 'c++',\n",
    "    'Imp': 'java',\n",
    "}\n",
    "\n",
    "king = ['John snow']\n",
    "for name in favorite_languages.keys():\n",
    "    # If statement\n",
    "    if name in king:\n",
    "        print(\"Yes, \" + name + \" is a king.\")\n",
    "\n",
    "#提取所有的keys，并储存在name之中\n",
    "for name in sorted(favorite_languages.keys()):\n",
    "    print(name.title() +  \",thank you for your attendance.\")"
   ]
  },
  {
   "cell_type": "code",
   "execution_count": 4,
   "metadata": {},
   "outputs": [
    {
     "name": "stdout",
     "output_type": "stream",
     "text": [
      "Yes, Python is a programm language\n",
      "Yes, C Language is a programm language\n",
      "Yes, C++ is a programm language\n",
      "Yes, Java is a programm language\n"
     ]
    }
   ],
   "source": [
    "favorite_languages = {\n",
    "    'Cerci': 'python',\n",
    "    'Sam': 'c language',\n",
    "    'John snow': 'c++',\n",
    "    'Imp': 'java',\n",
    "    'Stark': 'java'\n",
    "}\n",
    "\n",
    "# set 只包含不重复项（except 'java'）\n",
    "for language in set(favorite_languages.values()):\n",
    "    print(\"Yes, \" + language.title() + \" is a programm language\")"
   ]
  },
  {
   "cell_type": "code",
   "execution_count": 5,
   "metadata": {},
   "outputs": [
    {
     "name": "stdout",
     "output_type": "stream",
     "text": [
      "{'color': 'green', 'points': 5}\n",
      "{'color': 'red', 'points': 2}\n",
      "{'color': 'white', 'points': 4}\n"
     ]
    }
   ],
   "source": [
    "# 嵌套1: Dictonary List\n",
    "alien_0 = {'color': 'green','points': 5}\n",
    "alien_1 = {'color': 'red','points': 2}\n",
    "alien_2 = {'color': 'white','points': 4}\n",
    "\n",
    "# Declare a list aliens\n",
    "aliens = [alien_0, alien_1, alien_2]\n",
    "\n",
    "for alien in aliens:\n",
    "    print(alien)"
   ]
  },
  {
   "cell_type": "code",
   "execution_count": 10,
   "metadata": {},
   "outputs": [
    {
     "name": "stdout",
     "output_type": "stream",
     "text": [
      "{'color': 'green', 'points': 15, 'speed': 'fast'}\n",
      "{'color': 'green', 'points': 15, 'speed': 'fast'}\n",
      "{'color': 'green', 'points': 15, 'speed': 'fast'}\n",
      "{'color': 'green', 'points': 15, 'speed': 'fast'}\n",
      "{'color': 'green', 'points': 15, 'speed': 'fast'}\n",
      "...\n",
      "The total number of aliens is: 30\n",
      "\n",
      "\n",
      "{'color': 'yellow', 'points': 10, 'speed': 'slow'}\n",
      "{'color': 'yellow', 'points': 10, 'speed': 'slow'}\n",
      "{'color': 'yellow', 'points': 10, 'speed': 'slow'}\n",
      "{'color': 'green', 'points': 15, 'speed': 'fast'}\n",
      "{'color': 'green', 'points': 15, 'speed': 'fast'}\n",
      "...\n"
     ]
    }
   ],
   "source": [
    "# 嵌套1: Dictionary List cont.\n",
    "aliens = []\n",
    "\n",
    "for alien_number in range(30):\n",
    "    new_alien = {'color': 'green','points': 15,'speed':'fast'}\n",
    "    aliens.append(new_alien)\n",
    "\n",
    "# show the first 5 aliens\n",
    "for alien in aliens[:5]:\n",
    "    print(alien)\n",
    "print(\"...\")\n",
    "print(\"The total number of aliens is: \" + str(len(aliens))) # show length\n",
    "print(\"\\n\")\n",
    "\n",
    "# Edit the value of first 3 aliens\n",
    "for alien in aliens[:3]:\n",
    "    if alien['color'] == 'green':\n",
    "        alien['color'] = 'yellow'\n",
    "        alien['points'] = 10\n",
    "        alien['speed'] = 'slow'\n",
    "\n",
    "# show the first 5 aliens\n",
    "for alien in aliens[:5]:\n",
    "    print(alien)\n",
    "print(\"...\")"
   ]
  },
  {
   "cell_type": "code",
   "execution_count": 22,
   "metadata": {},
   "outputs": [
    {
     "name": "stdout",
     "output_type": "stream",
     "text": [
      "The brand adidas is \n",
      "fashion\n",
      "high quality\n",
      "Cerci likes the programm language:\n",
      "Python\n",
      "C#\n",
      "\n",
      "Sam likes the programm language:\n",
      "Python\n",
      "Java\n",
      "\n",
      "John Snow likes the programm language:\n",
      "C\n",
      "C++\n",
      "\n",
      "Imp likes the programm language:\n",
      "Java\n",
      "Python\n",
      "\n",
      "Stark likes the programm language:\n",
      "Java\n",
      "Unix\n",
      "\n"
     ]
    }
   ],
   "source": [
    "# 嵌套2: List Dictonary \n",
    "brands = {\n",
    "    'adidas':['fashion','high quality'],\n",
    "    'nike':'expensive',\n",
    "}\n",
    "print(\"The brand adidas is \")\n",
    "for highlight in brands['adidas']:\n",
    "    print(highlight)\n",
    "    \n",
    "favorite_languages = {\n",
    "    'Cerci': ['python','c#'],\n",
    "    'Sam': ['python','java'],\n",
    "    'John snow': ['C','c++'],\n",
    "    'Imp': ['java','python'],\n",
    "    'Stark': ['java','unix'],\n",
    "}\n",
    "\n",
    "for name, languages in favorite_languages.items():\n",
    "    print(name.title() + \" likes the programm language:\")\n",
    "    for language in languages:\n",
    "        print(language.title())\n",
    "    print() # Empty line"
   ]
  },
  {
   "cell_type": "code",
   "execution_count": 30,
   "metadata": {},
   "outputs": [
    {
     "name": "stdout",
     "output_type": "stream",
     "text": [
      "User1:\n",
      "Name: Greyjoy\n",
      "Gender: male\n",
      "User address: Iron Island\n",
      "\n",
      "User2:\n",
      "Name: Jon Snow\n",
      "Gender: male\n",
      "User address: Winterfel\n",
      "\n",
      "User3:\n",
      "Name: Daenerys Targaryen\n",
      "Gender: female\n",
      "User address: Dragon Stone\n",
      "\n"
     ]
    }
   ],
   "source": [
    "# 嵌套3: Dictonary Dictonary \n",
    "user_list = {\n",
    "    'user1':{\n",
    "        'address':'Iron Island',\n",
    "        'name':'Greyjoy',\n",
    "        'gender':'male',\n",
    "    },\n",
    "    \n",
    "    'user2':{\n",
    "        'address':'Winterfel',\n",
    "        'name':'Jon Snow',\n",
    "        'gender':'male',\n",
    "    },\n",
    "    \n",
    "    'user3':{\n",
    "        'address':'Dragon Stone',\n",
    "        'name':'Daenerys Targaryen',\n",
    "        'gender':'female',\n",
    "    },\n",
    "   \n",
    "}\n",
    "\n",
    "for user_name, user_info in user_list.items():\n",
    "    print(user_name.title() + \":\")\n",
    "    print(\"Name: \" + user_info['name'])\n",
    "    print(\"Gender: \" + user_info['gender'])\n",
    "    print(\"User address: \" + user_info['address'])\n",
    "    print()"
   ]
  },
  {
   "cell_type": "code",
   "execution_count": null,
   "metadata": {},
   "outputs": [],
   "source": []
  }
 ],
 "metadata": {
  "kernelspec": {
   "display_name": "Python 3",
   "language": "python",
   "name": "python3"
  },
  "language_info": {
   "codemirror_mode": {
    "name": "ipython",
    "version": 3
   },
   "file_extension": ".py",
   "mimetype": "text/x-python",
   "name": "python",
   "nbconvert_exporter": "python",
   "pygments_lexer": "ipython3",
   "version": "3.7.4"
  }
 },
 "nbformat": 4,
 "nbformat_minor": 2
}
