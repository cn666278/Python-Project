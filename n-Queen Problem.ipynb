{
 "cells": [
  {
   "cell_type": "code",
   "execution_count": 2,
   "metadata": {},
   "outputs": [
    {
     "name": "stdout",
     "output_type": "stream",
     "text": [
      "This is the solution 1: [0, 2, 4, 1, 3]\n",
      "This is the solution 2: [0, 3, 1, 4, 2]\n"
     ]
    }
   ],
   "source": [
    "# n-Queen problem\n",
    "\n",
    "def queens(i):\n",
    "    global count\n",
    "\n",
    "    if promising(i):\n",
    "        if i == n:  # last queen\n",
    "            print(\"This is the solution \" + str(count) + \": \", end=\"\")\n",
    "            print(col)  # array col start from 0 (root to leaf)\n",
    "            count += 1\n",
    "        else:\n",
    "            for j in range(1, n + 1):\n",
    "                col[i + 1] = j\n",
    "                queens(i + 1)\n",
    "\n",
    "\n",
    "def promising(i):\n",
    "    k = 1\n",
    "    flag = True\n",
    "\n",
    "    while k < i and flag:  # check current queen(i) with all the queens before i-th row\n",
    "        if col[i] == col[k] or abs(col[i] - col[k]) == i - k:  # not in same column or diagonal\n",
    "            flag = False  # dead end\n",
    "        k += 1\n",
    "\n",
    "    return flag\n",
    "\n",
    "\n",
    "count = 1\n",
    "n = 4\n",
    "# n = 8\n",
    "col = [0] * (n + 1)\n",
    "queens(0)  # root"
   ]
  },
  {
   "cell_type": "code",
   "execution_count": null,
   "metadata": {},
   "outputs": [],
   "source": []
  }
 ],
 "metadata": {
  "kernelspec": {
   "display_name": "Python 3",
   "language": "python",
   "name": "python3"
  },
  "language_info": {
   "codemirror_mode": {
    "name": "ipython",
    "version": 3
   },
   "file_extension": ".py",
   "mimetype": "text/x-python",
   "name": "python",
   "nbconvert_exporter": "python",
   "pygments_lexer": "ipython3",
   "version": "3.7.4"
  }
 },
 "nbformat": 4,
 "nbformat_minor": 2
}
